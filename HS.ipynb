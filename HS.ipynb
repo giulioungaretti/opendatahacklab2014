{
 "metadata": {
  "name": ""
 },
 "nbformat": 3,
 "nbformat_minor": 0,
 "worksheets": [
  {
   "cells": [
    {
     "cell_type": "code",
     "collapsed": false,
     "input": [
      "import urllib\n",
      "import json\n",
      "from pprint import pprint\n",
      "\n",
      "#Traffic CSV\n",
      "#url = 'http://data.kk.dk/api/action/datastore_search?resource_id=50f7a383-653a-4860-bb4e-306f221a2d2a&limit=5'\n",
      "#Parking CSV\n",
      "#url = 'http://data.kk.dk/api/action/datastore_search?resource_id=660e19fa-8838-4a5c-9495-0d7f94fab51e&limit=5'\n",
      "#Parkometer locations CSV\n",
      "urlPL = 'http://data.kk.dk/api/action/datastore_search?resource_id=f51463ac-d6ef-434e-bd40-b398c11fdc1d&limit=2000'\n",
      "\n",
      "PLobj = urllib.urlopen(urlPL)\n",
      "\n",
      "urlPU = 'http://data.kk.dk/api/action/datastore_search?resource_id=660e19fa-8838-4a5c-9495-0d7f94fab51e&limit=50000'\n",
      "\n",
      "PUobj = urllib.urlopen(urlPU)\n"
     ],
     "language": "python",
     "metadata": {},
     "outputs": [],
     "prompt_number": 2
    },
    {
     "cell_type": "code",
     "collapsed": false,
     "input": [
      "dataPL = json.load(PLobj)\n",
      "dataPU = json.load(PUobj)\n",
      "\n",
      "#pprint(data)\n",
      "\n",
      "#print data.keys()\n",
      "\n",
      "#pprint(dataPL['result']['fields'])\n",
      "\n",
      "\n",
      "\n",
      "# for i in range(num_records):\n",
      "\n",
      "#     print dataPL['result']['records'][i]['parkomat_id']\n",
      "#     print dataPL['result']['records'][i]['wkb_geometry']\n",
      "    \n",
      "#pprint(dataPU['result']['fields'])\n",
      "#print dataPU['result']['records'][1]['tlPDM'] #This is the parkometer id\n",
      "\n",
      "import pandas as pd\n",
      "\n",
      "df_PL = pd.DataFrame(dataPL['result']['records'])\n",
      "df_PU = pd.DataFrame(dataPU['result']['records'])\n"
     ],
     "language": "python",
     "metadata": {},
     "outputs": [],
     "prompt_number": 3
    },
    {
     "cell_type": "code",
     "collapsed": false,
     "input": [
      "df_PU.tlPDM = df_PU.tlPDM.astype(int)\n",
      "df_PL.parkomat_id = df_PL.parkomat_id.astype(int)"
     ],
     "language": "python",
     "metadata": {},
     "outputs": [],
     "prompt_number": 4
    },
    {
     "cell_type": "code",
     "collapsed": false,
     "input": [
      "#print df_PL.parkomat_id.values\n",
      "#print df_PU.tlPDM.values"
     ],
     "language": "python",
     "metadata": {},
     "outputs": [
      {
       "output_type": "stream",
       "stream": "stdout",
       "text": [
        "[4406 4407 4408 ..., 2188 9517 9516]\n",
        "[4299 3981 5960 ..., 4073 9518 2736]\n"
       ]
      }
     ],
     "prompt_number": 247
    },
    {
     "cell_type": "code",
     "collapsed": false,
     "input": [
      "import numpy as np\n",
      "\n",
      "#print df_PU\n",
      "print df_PU.groupby('tlPDM').size()\n",
      "\n",
      "simp_PL = df_PL.loc[:,['parkomat_id','wkb_geometry']]\n",
      "#print simp_PL\n",
      "#print simp_PL.wkb_geometry[simp_PL.parkomat_id == 4216].values\n",
      "\n",
      "num_records = len(df_PU.index)\n",
      "\n",
      "print \"Number of records\"\n",
      "print num_records\n",
      "\n",
      "df_PU['LOC'] = pd.Series(np.zeros(num_records), index=df_PU.index)\n",
      "\n",
      "#print df_PU.tlPDM.iloc[0]\n",
      "\n",
      "print num_records\n",
      "\n",
      "#print simp_PL.wkb_geometry[simp_PL.parkomat_id == 4607].values\n",
      "\n",
      "for i in range(0,num_records):\n",
      "    item = df_PU.tlPDM.iloc[i]\n",
      "    #print item\n",
      "    #print simp_PL.wkb_geometry[simp_PL.parkomat_id == item].values\n",
      "    try:\n",
      "        df_PU['LOC'].iloc[i]=simp_PL.wkb_geometry[simp_PL.parkomat_id == item].values[0]\n",
      "    except:\n",
      "        df_PU['LOC'].iloc[i]=''\n",
      "\n",
      "result = df_PU.groupby('tlPDM').size()"
     ],
     "language": "python",
     "metadata": {},
     "outputs": [
      {
       "output_type": "stream",
       "stream": "stdout",
       "text": [
        "tlPDM\n",
        "152      179\n",
        "153      143\n",
        "156      234\n",
        "157      134\n",
        "158       64\n",
        "159       54\n",
        "160       37\n",
        "1002      15\n",
        "1003      25\n",
        "1004      33\n",
        "1005      35\n",
        "1006      38\n",
        "1007      72\n",
        "1008      25\n",
        "1009      23\n",
        "...\n",
        "9613      4\n",
        "9614      5\n",
        "9615     10\n",
        "9616      2\n",
        "9617      5\n",
        "9618     54\n",
        "9619      6\n",
        "9620      9\n",
        "9621     10\n",
        "9622      3\n",
        "9623     11\n",
        "9624     18\n",
        "9625      7\n",
        "69691     2\n",
        "69692    32\n",
        "Length: 1504, dtype: int64\n",
        "Number of records\n",
        "50000\n",
        "50000\n"
       ]
      }
     ],
     "prompt_number": 25
    },
    {
     "cell_type": "code",
     "collapsed": false,
     "input": [
      "print result.head()\n",
      "print df_PU.head()\n",
      "\n",
      "toG = pd.concat([df_PU.tlPDM,df_PU.LOC,result], axis=1)\n",
      "\n",
      "print 'final'\n",
      "print toG.head()"
     ],
     "language": "python",
     "metadata": {},
     "outputs": [
      {
       "output_type": "stream",
       "stream": "stdout",
       "text": [
        "tlPDM\n",
        "152      179\n",
        "153      143\n",
        "156      234\n",
        "157      134\n",
        "158       64\n",
        "dtype: int64\n",
        "        _id        tlExpDateTime  tlPDM        tlPayDateTime  tlRecordID  \\\n",
        "0  21648612  2014-07-07T13:07:00   4299  2014-07-07T12:34:00    67348856   \n",
        "1  21648613  2014-07-07T13:22:00   3981  2014-07-07T12:33:00    67348857   \n",
        "2  21648614  2014-07-07T15:03:00   5960  2014-07-07T12:34:00    67348861   \n",
        "3  21648615  2014-07-07T14:23:00   2540  2014-07-07T12:34:00    67348862   \n",
        "4  21648616  2014-07-07T12:56:00   3060  2014-07-07T12:34:00    67348863   \n",
        "\n",
        "                                             LOC  \n",
        "0  POINT (12.572058839543947 55.687899348854046)  \n",
        "1   POINT (12.582053484301088 55.67922051891793)  \n",
        "2  POINT (12.589509327787182 55.696012958292265)  \n",
        "3    POINT (12.58213831372281 55.70621897861154)  \n",
        "4    POINT (12.549258806737488 55.6675206928224)  \n",
        "\n",
        "[5 rows x 6 columns]\n",
        "final\n",
        "      0                                              1   2\n",
        "0  4299  POINT (12.572058839543947 55.687899348854046) NaN\n",
        "1  3981   POINT (12.582053484301088 55.67922051891793) NaN\n",
        "2  5960  POINT (12.589509327787182 55.696012958292265) NaN\n",
        "3  2540    POINT (12.58213831372281 55.70621897861154) NaN\n",
        "4  3060    POINT (12.549258806737488 55.6675206928224) NaN\n",
        "\n",
        "[5 rows x 3 columns]\n"
       ]
      }
     ],
     "prompt_number": 26
    },
    {
     "cell_type": "code",
     "collapsed": false,
     "input": [
      "resultLOC = df_PU.groupby('LOC').size()"
     ],
     "language": "python",
     "metadata": {},
     "outputs": [],
     "prompt_number": 32
    },
    {
     "cell_type": "code",
     "collapsed": false,
     "input": [
      "resultLOC.to_csv(\"lat_long_count.csv\")"
     ],
     "language": "python",
     "metadata": {},
     "outputs": [],
     "prompt_number": 35
    },
    {
     "cell_type": "code",
     "collapsed": false,
     "input": [
      "!git pull\n",
      "!git commit -am \"New Parking dataset\"\n",
      "!git push"
     ],
     "language": "python",
     "metadata": {},
     "outputs": [
      {
       "output_type": "stream",
       "stream": "stdout",
       "text": [
        "remote: Counting objects: 103, done.\u001b[K\r\n",
        "remote: Compressing objects:   1% (1/85)   \u001b[K\r",
        "remote: Compressing objects:   2% (2/85)   \u001b[K\r",
        "remote: Compressing objects:   3% (3/85)   \u001b[K\r",
        "remote: Compressing objects:   4% (4/85)   \u001b[K\r",
        "remote: Compressing objects:   5% (5/85)   \u001b[K\r",
        "remote: Compressing objects:   7% (6/85)   \u001b[K\r",
        "remote: Compressing objects:   8% (7/85)   \u001b[K\r",
        "remote: Compressing objects:   9% (8/85)   \u001b[K\r",
        "remote: Compressing objects:  10% (9/85)   \u001b[K\r"
       ]
      },
      {
       "output_type": "stream",
       "stream": "stdout",
       "text": [
        "remote: Compressing objects:  11% (10/85)   \u001b[K\r",
        "remote: Compressing objects:  12% (11/85)   \u001b[K\r",
        "remote: Compressing objects:  14% (12/85)   \u001b[K\r",
        "remote: Compressing objects:  15% (13/85)   \u001b[K\r",
        "remote: Compressing objects:  16% (14/85)   \u001b[K\r",
        "remote: Compressing objects:  17% (15/85)   \u001b[K\r",
        "remote: Compressing objects:  18% (16/85)   \u001b[K\r",
        "remote: Compressing objects:  20% (17/85)   \u001b[K\r",
        "remote: Compressing objects:  21% (18/85)   \u001b[K\r",
        "remote: Compressing objects:  22% (19/85)   \u001b[K\r",
        "remote: Compressing objects:  23% (20/85)   \u001b[K\r",
        "remote: Compressing objects:  24% (21/85)   \u001b[K\r",
        "remote: Compressing objects:  25% (22/85)   \u001b[K\r",
        "remote: Compressing objects:  27% (23/85)   \u001b[K\r",
        "remote: Compressing objects:  28% (24/85)   \u001b[K\r",
        "remote: Compressing objects:  29% (25/85)   \u001b[K\r",
        "remote: Compressing objects:  30% (26/85)   \u001b[K\r",
        "remote: Compressing objects:  31% (27/85)   \u001b[K\r",
        "remote: Compressing objects:  32% (28/85)   \u001b[K\r",
        "remote: Compressing objects:  34% (29/85)   \u001b[K\r",
        "remote: Compressing objects:  35% (30/85)   \u001b[K\r",
        "remote: Compressing objects:  36% (31/85)   \u001b[K\r",
        "remote: Compressing objects:  37% (32/85)   \u001b[K\r",
        "remote: Compressing objects:  38% (33/85)   \u001b[K\r",
        "remote: Compressing objects:  40% (34/85)   \u001b[K\r",
        "remote: Compressing objects:  41% (35/85)   \u001b[K\r",
        "remote: Compressing objects:  42% (36/85)   \u001b[K\r",
        "remote: Compressing objects:  43% (37/85)   \u001b[K\r",
        "remote: Compressing objects:  44% (38/85)   \u001b[K\r",
        "remote: Compressing objects:  45% (39/85)   \u001b[K\r",
        "remote: Compressing objects:  47% (40/85)   \u001b[K\r",
        "remote: Compressing objects:  48% (41/85)   \u001b[K\r",
        "remote: Compressing objects:  49% (42/85)   \u001b[K\r",
        "remote: Compressing objects:  50% (43/85)   \u001b[K\r",
        "remote: Compressing objects:  51% (44/85)   \u001b[K\r",
        "remote: Compressing objects:  52% (45/85)   \u001b[K\r",
        "remote: Compressing objects:  54% (46/85)   \u001b[K\r",
        "remote: Compressing objects:  55% (47/85)   \u001b[K\r",
        "remote: Compressing objects:  56% (48/85)   \u001b[K\r",
        "remote: Compressing objects:  57% (49/85)   \u001b[K\r",
        "remote: Compressing objects:  58% (50/85)   \u001b[K\r",
        "remote: Compressing objects:  60% (51/85)   \u001b[K\r",
        "remote: Compressing objects:  61% (52/85)   \u001b[K\r",
        "remote: Compressing objects:  62% (53/85)   \u001b[K\r",
        "remote: Compressing objects:  63% (54/85)   \u001b[K\r",
        "remote: Compressing objects:  64% (55/85)   \u001b[K\r",
        "remote: Compressing objects:  65% (56/85)   \u001b[K\r",
        "remote: Compressing objects:  67% (57/85)   \u001b[K\r",
        "remote: Compressing objects:  68% (58/85)   \u001b[K\r",
        "remote: Compressing objects:  69% (59/85)   \u001b[K\r",
        "remote: Compressing objects:  70% (60/85)   \u001b[K\r",
        "remote: Compressing objects:  71% (61/85)   \u001b[K\r",
        "remote: Compressing objects:  72% (62/85)   \u001b[K\r",
        "remote: Compressing objects:  74% (63/85)   \u001b[K\r",
        "remote: Compressing objects:  75% (64/85)   \u001b[K\r",
        "remote: Compressing objects:  76% (65/85)   \u001b[K\r",
        "remote: Compressing objects:  77% (66/85)   \u001b[K\r",
        "remote: Compressing objects:  78% (67/85)   \u001b[K\r",
        "remote: Compressing objects:  80% (68/85)   \u001b[K\r",
        "remote: Compressing objects:  81% (69/85)   \u001b[K\r",
        "remote: Compressing objects:  82% (70/85)   \u001b[K\r",
        "remote: Compressing objects:  83% (71/85)   \u001b[K\r",
        "remote: Compressing objects:  84% (72/85)   \u001b[K\r",
        "remote: Compressing objects:  85% (73/85)   \u001b[K\r",
        "remote: Compressing objects:  87% (74/85)   \u001b[K\r",
        "remote: Compressing objects:  88% (75/85)   \u001b[K\r",
        "remote: Compressing objects:  89% (76/85)   \u001b[K\r",
        "remote: Compressing objects:  90% (77/85)   \u001b[K\r",
        "remote: Compressing objects:  91% (78/85)   \u001b[K\r",
        "remote: Compressing objects:  92% (79/85)   \u001b[K\r",
        "remote: Compressing objects:  94% (80/85)   \u001b[K\r",
        "remote: Compressing objects:  95% (81/85)   \u001b[K\r",
        "remote: Compressing objects:  96% (82/85)   \u001b[K\r",
        "remote: Compressing objects:  97% (83/85)   \u001b[K\r",
        "remote: Compressing objects:  98% (84/85)   \u001b[K\r",
        "remote: Compressing objects: 100% (85/85)   \u001b[K\r",
        "remote: Compressing objects: 100% (85/85), done.\u001b[K\r\n"
       ]
      },
      {
       "output_type": "stream",
       "stream": "stdout",
       "text": [
        "Receiving objects:   0% (1/103)   \r",
        "Receiving objects:   1% (2/103)   \r",
        "Receiving objects:   2% (3/103)   \r",
        "Receiving objects:   3% (4/103)   \r",
        "Receiving objects:   4% (5/103)   \r",
        "Receiving objects:   5% (6/103)   \r",
        "Receiving objects:   6% (7/103)   \r",
        "Receiving objects:   7% (8/103)   \r",
        "Receiving objects:   8% (9/103)   \r",
        "Receiving objects:   9% (10/103)   \r",
        "Receiving objects:  10% (11/103)   \r",
        "Receiving objects:  11% (12/103)   \r",
        "Receiving objects:  12% (13/103)   \r",
        "Receiving objects:  13% (14/103)   \r",
        "Receiving objects:  14% (15/103)   \r",
        "Receiving objects:  15% (16/103)   \r",
        "Receiving objects:  16% (17/103)   \r",
        "Receiving objects:  17% (18/103)   \r",
        "Receiving objects:  18% (19/103)   \r",
        "Receiving objects:  19% (20/103)   \r",
        "Receiving objects:  20% (21/103)   \r",
        "Receiving objects:  21% (22/103)   \r",
        "Receiving objects:  22% (23/103)   \r",
        "Receiving objects:  23% (24/103)   \r",
        "Receiving objects:  24% (25/103)   \r",
        "Receiving objects:  25% (26/103)   \r",
        "Receiving objects:  26% (27/103)   \r",
        "Receiving objects:  27% (28/103)   \r",
        "Receiving objects:  28% (29/103)   \r",
        "Receiving objects:  29% (30/103)   \r"
       ]
      },
      {
       "output_type": "stream",
       "stream": "stdout",
       "text": [
        "Receiving objects:  30% (31/103), 108.00 KiB | 191.00 KiB/s   \r"
       ]
      },
      {
       "output_type": "stream",
       "stream": "stdout",
       "text": [
        "Receiving objects:  31% (32/103), 108.00 KiB | 191.00 KiB/s   \r"
       ]
      },
      {
       "output_type": "stream",
       "stream": "stdout",
       "text": [
        "Receiving objects:  32% (33/103), 108.00 KiB | 191.00 KiB/s   \r",
        "Receiving objects:  33% (34/103), 108.00 KiB | 191.00 KiB/s   \r",
        "Receiving objects:  34% (36/103), 108.00 KiB | 191.00 KiB/s   \r",
        "Receiving objects:  35% (37/103), 108.00 KiB | 191.00 KiB/s   \r",
        "Receiving objects:  36% (38/103), 108.00 KiB | 191.00 KiB/s   \r",
        "Receiving objects:  37% (39/103), 108.00 KiB | 191.00 KiB/s   \r"
       ]
      },
      {
       "output_type": "stream",
       "stream": "stdout",
       "text": [
        "Receiving objects:  37% (39/103), 292.00 KiB | 245.00 KiB/s   \r"
       ]
      },
      {
       "output_type": "stream",
       "stream": "stdout",
       "text": [
        "Receiving objects:  37% (39/103), 516.00 KiB | 205.00 KiB/s   \r"
       ]
      },
      {
       "output_type": "stream",
       "stream": "stdout",
       "text": [
        "Receiving objects:  37% (39/103), 804.00 KiB | 218.00 KiB/s   \r"
       ]
      },
      {
       "output_type": "stream",
       "stream": "stdout",
       "text": [
        "Receiving objects:  38% (40/103), 804.00 KiB | 218.00 KiB/s   \r"
       ]
      },
      {
       "output_type": "stream",
       "stream": "stdout",
       "text": [
        "Receiving objects:  38% (40/103), 964.00 KiB | 230.00 KiB/s   \r"
       ]
      },
      {
       "output_type": "stream",
       "stream": "stdout",
       "text": [
        "Receiving objects:  39% (41/103), 1.10 MiB | 239.00 KiB/s   \r",
        "Receiving objects:  40% (42/103), 1.10 MiB | 239.00 KiB/s   \r"
       ]
      },
      {
       "output_type": "stream",
       "stream": "stdout",
       "text": [
        "Receiving objects:  41% (43/103), 1.10 MiB | 239.00 KiB/s   \r",
        "Receiving objects:  42% (44/103), 1.10 MiB | 239.00 KiB/s   \r",
        "Receiving objects:  43% (45/103), 1.10 MiB | 239.00 KiB/s   \r",
        "Receiving objects:  44% (46/103), 1.10 MiB | 239.00 KiB/s   \r",
        "Receiving objects:  45% (47/103), 1.10 MiB | 239.00 KiB/s   \r",
        "Receiving objects:  46% (48/103), 1.10 MiB | 239.00 KiB/s   \r"
       ]
      },
      {
       "output_type": "stream",
       "stream": "stdout",
       "text": [
        "Receiving objects:  46% (48/103), 1.25 MiB | 241.00 KiB/s   \r"
       ]
      },
      {
       "output_type": "stream",
       "stream": "stdout",
       "text": [
        "Receiving objects:  47% (49/103), 1.41 MiB | 254.00 KiB/s   \r",
        "Receiving objects:  48% (50/103), 1.41 MiB | 254.00 KiB/s   \r",
        "Receiving objects:  49% (51/103), 1.41 MiB | 254.00 KiB/s   \r",
        "Receiving objects:  50% (52/103), 1.41 MiB | 254.00 KiB/s   \r",
        "Receiving objects:  51% (53/103), 1.41 MiB | 254.00 KiB/s   \r",
        "Receiving objects:  52% (54/103), 1.41 MiB | 254.00 KiB/s   \r"
       ]
      },
      {
       "output_type": "stream",
       "stream": "stdout",
       "text": [
        "remote: Total 103 (delta 44), reused 75 (delta 16)\u001b[K\r\n",
        "Receiving objects:  53% (55/103), 1.57 MiB | 252.00 KiB/s   \r",
        "Receiving objects:  54% (56/103), 1.57 MiB | 252.00 KiB/s   \r",
        "Receiving objects:  55% (57/103), 1.57 MiB | 252.00 KiB/s   \r",
        "Receiving objects:  56% (58/103), 1.57 MiB | 252.00 KiB/s   \r",
        "Receiving objects:  57% (59/103), 1.57 MiB | 252.00 KiB/s   \r",
        "Receiving objects:  58% (60/103), 1.57 MiB | 252.00 KiB/s   \r",
        "Receiving objects:  59% (61/103), 1.57 MiB | 252.00 KiB/s   \r",
        "Receiving objects:  60% (62/103), 1.57 MiB | 252.00 KiB/s   \r",
        "Receiving objects:  61% (63/103), 1.57 MiB | 252.00 KiB/s   \r",
        "Receiving objects:  62% (64/103), 1.57 MiB | 252.00 KiB/s   \r",
        "Receiving objects:  63% (65/103), 1.57 MiB | 252.00 KiB/s   \r",
        "Receiving objects:  64% (66/103), 1.57 MiB | 252.00 KiB/s   \r",
        "Receiving objects:  65% (67/103), 1.57 MiB | 252.00 KiB/s   \r",
        "Receiving objects:  66% (68/103), 1.57 MiB | 252.00 KiB/s   \r",
        "Receiving objects:  67% (70/103), 1.57 MiB | 252.00 KiB/s   \r",
        "Receiving objects:  68% (71/103), 1.57 MiB | 252.00 KiB/s   \r",
        "Receiving objects:  69% (72/103), 1.57 MiB | 252.00 KiB/s   \r",
        "Receiving objects:  70% (73/103), 1.57 MiB | 252.00 KiB/s   \r",
        "Receiving objects:  71% (74/103), 1.57 MiB | 252.00 KiB/s   \r",
        "Receiving objects:  72% (75/103), 1.57 MiB | 252.00 KiB/s   \r",
        "Receiving objects:  73% (76/103), 1.57 MiB | 252.00 KiB/s   \r",
        "Receiving objects:  74% (77/103), 1.57 MiB | 252.00 KiB/s   \r",
        "Receiving objects:  75% (78/103), 1.57 MiB | 252.00 KiB/s   \r",
        "Receiving objects:  76% (79/103), 1.57 MiB | 252.00 KiB/s   \r",
        "Receiving objects:  77% (80/103), 1.57 MiB | 252.00 KiB/s   \r",
        "Receiving objects:  78% (81/103), 1.57 MiB | 252.00 KiB/s   \r",
        "Receiving objects:  79% (82/103), 1.57 MiB | 252.00 KiB/s   \r",
        "Receiving objects:  80% (83/103), 1.57 MiB | 252.00 KiB/s   \r",
        "Receiving objects:  81% (84/103), 1.57 MiB | 252.00 KiB/s   \r",
        "Receiving objects:  82% (85/103), 1.57 MiB | 252.00 KiB/s   \r",
        "Receiving objects:  83% (86/103), 1.57 MiB | 252.00 KiB/s   \r",
        "Receiving objects:  84% (87/103), 1.57 MiB | 252.00 KiB/s   \r",
        "Receiving objects:  85% (88/103), 1.57 MiB | 252.00 KiB/s   \r",
        "Receiving objects:  86% (89/103), 1.57 MiB | 252.00 KiB/s   \r",
        "Receiving objects:  87% (90/103), 1.57 MiB | 252.00 KiB/s   \r",
        "Receiving objects:  88% (91/103), 1.57 MiB | 252.00 KiB/s   \r",
        "Receiving objects:  89% (92/103), 1.57 MiB | 252.00 KiB/s   \r",
        "Receiving objects:  90% (93/103), 1.57 MiB | 252.00 KiB/s   \r",
        "Receiving objects:  91% (94/103), 1.57 MiB | 252.00 KiB/s   \r",
        "Receiving objects:  92% (95/103), 1.57 MiB | 252.00 KiB/s   \r",
        "Receiving objects:  93% (96/103), 1.57 MiB | 252.00 KiB/s   \r",
        "Receiving objects:  94% (97/103), 1.57 MiB | 252.00 KiB/s   \r",
        "Receiving objects:  95% (98/103), 1.57 MiB | 252.00 KiB/s   \r",
        "Receiving objects:  96% (99/103), 1.57 MiB | 252.00 KiB/s   \r",
        "Receiving objects:  97% (100/103), 1.57 MiB | 252.00 KiB/s   \r",
        "Receiving objects:  98% (101/103), 1.57 MiB | 252.00 KiB/s   \r",
        "Receiving objects:  99% (102/103), 1.57 MiB | 252.00 KiB/s   \r",
        "Receiving objects: 100% (103/103), 1.57 MiB | 252.00 KiB/s   \r",
        "Receiving objects: 100% (103/103), 1.61 MiB | 271.00 KiB/s, done.\r\n",
        "Resolving deltas:   0% (0/44)   \r",
        "Resolving deltas:   2% (1/44)   \r",
        "Resolving deltas:   4% (2/44)   \r",
        "Resolving deltas:   9% (4/44)   \r",
        "Resolving deltas:  13% (6/44)   \r",
        "Resolving deltas:  15% (7/44)   \r",
        "Resolving deltas:  20% (9/44)   \r",
        "Resolving deltas:  22% (10/44)   \r",
        "Resolving deltas:  25% (11/44)   \r",
        "Resolving deltas:  27% (12/44)   \r",
        "Resolving deltas:  29% (13/44)   \r",
        "Resolving deltas:  77% (34/44)   \r",
        "Resolving deltas:  81% (36/44)   \r",
        "Resolving deltas:  86% (38/44)   \r",
        "Resolving deltas:  90% (40/44)   \r",
        "Resolving deltas:  97% (43/44)   \r",
        "Resolving deltas: 100% (44/44)   \r",
        "Resolving deltas: 100% (44/44), done.\r\n"
       ]
      },
      {
       "output_type": "stream",
       "stream": "stdout",
       "text": [
        "From github.com:giulioungaretti/opendatahacklab2014\r\n",
        "   d934d3e..b3d5856  master     -> origin/master\r\n"
       ]
      },
      {
       "output_type": "stream",
       "stream": "stdout",
       "text": [
        "\u001b7\u001b[?47h\u001b[?1h\u001b=\u001b[1;24r\u001b[m\u001b[H\u001b[2J\u001b[24;1H\"~/opendatahacklab2014/.git/MERGE_MSG\" 7L, 299C\u001b[>c\u001b[1;1HMerge branch 'master' of github.com:giulioungaretti/opendatahacklab2014\r\n",
        "\r\n",
        "# Please enter a commit message to explain why this merge is necessary,\r\n",
        "# especially if it merges an updated upstream into a topic branch.\r\n",
        "#\r\n",
        "# Lines starting with '#' will be ignored, and an empty message aborts\r\n",
        "# the commit.\r\n",
        "\u001b[1m\u001b[34m~                                                                                                                                                                                                           \u001b[9;1H~                                                                                                                                                                                                           \u001b[10;1H~                                                                                                                                                                                                           \u001b[11;1H~                                                                                                                                                                                                           \u001b[12;1H~                                                                                                                                                                                                           \u001b[13;1H~                                                                                                                                                                                                           \u001b[14;1H~                                                                                                                                                                                                           \u001b[15;1H~                                                                                                                                                                                                           \u001b[16;1H~                                                                                                                                                                                                           \u001b[17;1H~                                                                                                                                                                                                           \u001b[18;1H~                                                                                                                                                                                                           \u001b[19;1H~                                                                                                                                                                                                           \u001b[20;1H~                                                                                                                                                                                                           \u001b[21;1H~                                                                                                                                                                                                           \u001b[22;1H~                                                                                                                                                                                                           \u001b[23;1H~                                                                                                                                                                                                           \u001b[1;1H"
       ]
      }
     ],
     "prompt_number": "*"
    },
    {
     "cell_type": "code",
     "collapsed": false,
     "input": [],
     "language": "python",
     "metadata": {},
     "outputs": []
    }
   ],
   "metadata": {}
  }
 ]
}