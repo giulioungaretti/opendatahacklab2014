{
 "metadata": {
  "name": "",
  "signature": "sha256:e62d54dbb0c3725a628a2b7da099cf736ecdd050f7a72a16b9f681f027dbbd88"
 },
 "nbformat": 3,
 "nbformat_minor": 0,
 "worksheets": []
}