{
 "metadata": {
  "name": "",
  "signature": "sha256:1c56ab9672aa744d4eccd7bc135db0c92a8b2f22601a93a644794708aa947911"
 },
 "nbformat": 3,
 "nbformat_minor": 0,
 "worksheets": [
  {
   "cells": [
    {
     "cell_type": "code",
     "collapsed": false,
     "input": [],
     "language": "python",
     "metadata": {},
     "outputs": []
    },
    {
     "cell_type": "code",
     "collapsed": false,
     "input": [
      "!git pull\n",
      "!git add merlin.ipynb\n",
      "!git commit -am 'first commit'\n",
      "!git push origin master"
     ],
     "language": "python",
     "metadata": {},
     "outputs": [
      {
       "output_type": "stream",
       "stream": "stdout",
       "text": [
        "remote: Counting objects: 3, done.\u001b[K\r\n",
        "remote: Compressing objects:  33% (1/3)   \u001b[K\r",
        "remote: Compressing objects:  66% (2/3)   \u001b[K\r",
        "remote: Compressing objects: 100% (3/3)   \u001b[K\r",
        "remote: Compressing objects: 100% (3/3), done.\u001b[K\r\n"
       ]
      },
      {
       "output_type": "stream",
       "stream": "stdout",
       "text": [
        "Unpacking objects:  33% (1/3)   \r",
        "Unpacking objects:  66% (2/3)   \r"
       ]
      },
      {
       "output_type": "stream",
       "stream": "stdout",
       "text": [
        "remote: Total 3 (delta 0), reused 3 (delta 0)\u001b[K\r\n",
        "Unpacking objects: 100% (3/3)   \r",
        "Unpacking objects: 100% (3/3), done.\r\n"
       ]
      },
      {
       "output_type": "stream",
       "stream": "stdout",
       "text": [
        "From github.com:giulioungaretti/opendatahacklab2014\r\n",
        "   c0857d9..d34038d  master     -> origin/master\r\n",
        "Updating c0857d9..d34038d\r\n",
        "Fast-forward\r\n",
        " GPA.ipynb | 94 \u001b[32m+++++++++++++++++++++++++++++++++++++++++++++++++++++++++++++++++++++++++++++++++++++++\u001b[m\u001b[31m-------\u001b[m\r\n",
        " 1 file changed, 87 insertions(+), 7 deletions(-)\r\n"
       ]
      },
      {
       "output_type": "stream",
       "stream": "stdout",
       "text": [
        "[master b897cb7] first commit\r\n",
        " 1 file changed, 9 insertions(+)\r\n",
        " create mode 100644 merlin.ipynb\r\n"
       ]
      },
      {
       "output_type": "stream",
       "stream": "stdout",
       "text": [
        "Counting objects: 4, done.\r\n",
        "Delta compression using up to 4 threads.\r\n",
        "Compressing objects:  33% (1/3)   \r",
        "Compressing objects:  66% (2/3)   \r",
        "Compressing objects: 100% (3/3)   \r",
        "Compressing objects: 100% (3/3), done.\r\n",
        "Writing objects:  33% (1/3)   \r",
        "Writing objects:  66% (2/3)   \r",
        "Writing objects: 100% (3/3)   \r",
        "Writing objects: 100% (3/3), 407 bytes | 0 bytes/s, done.\r\n",
        "Total 3 (delta 1), reused 0 (delta 0)\r\n"
       ]
      },
      {
       "output_type": "stream",
       "stream": "stdout",
       "text": [
        "To git@github.com:giulioungaretti/opendatahacklab2014.git\r\n",
        "   d34038d..b897cb7  master -> master\r\n"
       ]
      }
     ],
     "prompt_number": 3
    }
   ],
   "metadata": {}
  }
 ]
}