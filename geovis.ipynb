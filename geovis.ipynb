{
 "metadata": {
  "name": "",
  "signature": "sha256:0fa33542531e84025af99b8f000767582a565c26247f7d693380db931d991b51"
 },
 "nbformat": 3,
 "nbformat_minor": 0,
 "worksheets": [
  {
   "cells": [
    {
     "cell_type": "code",
     "collapsed": false,
     "input": [],
     "language": "python",
     "metadata": {},
     "outputs": []
    }
   ],
   "metadata": {}
  }
 ]
}