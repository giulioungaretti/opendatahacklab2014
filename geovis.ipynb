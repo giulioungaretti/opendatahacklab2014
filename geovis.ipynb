{
 "metadata": {
  "name": "",
  "signature": "sha256:f1a3214b74f7df0a01efac23d23485fda76bf20952fa3cbba28688bf5f744a6b"
 },
 "nbformat": 3,
 "nbformat_minor": 0,
 "worksheets": [
  {
   "cells": [
    {
     "cell_type": "code",
     "collapsed": true,
     "input": [
      "%load_ext vimception\n",
      "import numpy as np\n",
      "import pandas as pd "
     ],
     "language": "python",
     "metadata": {},
     "outputs": [
      {
       "output_type": "stream",
       "stream": "stdout",
       "text": [
        "The vimception extension is already loaded. To reload it, use:\n",
        "  %reload_ext vimception\n"
       ]
      }
     ],
     "prompt_number": 175
    },
    {
     "cell_type": "code",
     "collapsed": false,
     "input": [
      "'''\n",
      "munges the pois of Copenhagen such a museums and churches and parks and so on\n",
      "'''\n",
      "\n",
      "import folium\n",
      "import json\n",
      "import pandas as pd\n",
      "import geohash\n",
      "import time\n",
      "from shapely.geometry import shape, Point, Polygon\n",
      "from shapely.prepared import prep # speed up\n",
      "\n",
      "\n",
      "df = pd.DataFrame.from_csv('data/stednavn_flade.csv')\n",
      "# Polygon(\n",
      "\n",
      "def poligonify(row):\n",
      "    a = row.wkb_geometry\n",
      "    try:\n",
      "        c =  np.array( [float(i.rstrip(',')) for i in a[10:].translate(None, '()').split(' ')])\n",
      "        c = c.reshape(c.shape[0]/2, c.shape[0]/(c.shape[0]/2))\n",
      "        Polygon(c)\n",
      "    except:\n",
      "        print 'error'\n",
      "    return Polygon(c)"
     ],
     "language": "python",
     "metadata": {},
     "outputs": [],
     "prompt_number": 176
    },
    {
     "cell_type": "code",
     "collapsed": false,
     "input": [
      "df['poly']  = df.apply(poligonify, axis=1)"
     ],
     "language": "python",
     "metadata": {},
     "outputs": [],
     "prompt_number": 177
    },
    {
     "cell_type": "code",
     "collapsed": false,
     "input": [
      "df['centroids'] = df.apply(lambda row: Point(row.poly.centroid), axis=1)"
     ],
     "language": "python",
     "metadata": {},
     "outputs": [],
     "prompt_number": 178
    },
    {
     "cell_type": "markdown",
     "metadata": {},
     "source": []
    },
    {
     "cell_type": "code",
     "collapsed": false,
     "input": [
      "a = df[['id','centroids']]\n",
      "a.to_csv('eaxample.csv')"
     ],
     "language": "python",
     "metadata": {},
     "outputs": [],
     "prompt_number": 214
    },
    {
     "cell_type": "code",
     "collapsed": false,
     "input": [
      "# load GeoJSON file containing sectors\n",
      "with open('data/taxzone.json', 'r') as f:\n",
      "    js = json.load(f)"
     ],
     "language": "python",
     "metadata": {},
     "outputs": [],
     "prompt_number": 179
    },
    {
     "cell_type": "code",
     "collapsed": false,
     "input": [
      "polygons_shape = [shape(feature['geometry']) for feature in  js['features']]\n",
      "names = [feature['properties']['id'] for feature in js['features']]\n",
      "map_df =  pd.DataFrame({'poly':polygons_shape,'id':names})"
     ],
     "language": "python",
     "metadata": {},
     "outputs": [],
     "prompt_number": 195
    },
    {
     "cell_type": "code",
     "collapsed": false,
     "input": [
      "def do(row):\n",
      "    return len(filter(row.poly.contains, df.centroids))"
     ],
     "language": "python",
     "metadata": {},
     "outputs": [],
     "prompt_number": 196
    },
    {
     "cell_type": "code",
     "collapsed": false,
     "input": [
      "map_df['counts'] = map_df.apply(do,axis=1)"
     ],
     "language": "python",
     "metadata": {},
     "outputs": [],
     "prompt_number": 197
    },
    {
     "cell_type": "code",
     "collapsed": false,
     "input": [
      "map_df.head()"
     ],
     "language": "python",
     "metadata": {},
     "outputs": [
      {
       "html": [
        "<div style=\"max-height:1000px;max-width:1500px;overflow:auto;\">\n",
        "<table border=\"1\" class=\"dataframe\">\n",
        "  <thead>\n",
        "    <tr style=\"text-align: right;\">\n",
        "      <th></th>\n",
        "      <th>id</th>\n",
        "      <th>poly</th>\n",
        "      <th>counts</th>\n",
        "    </tr>\n",
        "  </thead>\n",
        "  <tbody>\n",
        "    <tr>\n",
        "      <th>0</th>\n",
        "      <td>  7</td>\n",
        "      <td> POLYGON ((12.57973653249631 55.67897122530934,...</td>\n",
        "      <td>  1</td>\n",
        "    </tr>\n",
        "    <tr>\n",
        "      <th>1</th>\n",
        "      <td>  8</td>\n",
        "      <td> POLYGON ((12.57538207559375 55.67573395017224,...</td>\n",
        "      <td> 10</td>\n",
        "    </tr>\n",
        "    <tr>\n",
        "      <th>2</th>\n",
        "      <td>  9</td>\n",
        "      <td> POLYGON ((12.5826025317837 55.67674174792494, ...</td>\n",
        "      <td>  2</td>\n",
        "    </tr>\n",
        "    <tr>\n",
        "      <th>3</th>\n",
        "      <td> 10</td>\n",
        "      <td> POLYGON ((12.58490556052964 55.68094553600795,...</td>\n",
        "      <td>  2</td>\n",
        "    </tr>\n",
        "    <tr>\n",
        "      <th>4</th>\n",
        "      <td> 11</td>\n",
        "      <td> POLYGON ((12.58545941355171 55.67970058349196,...</td>\n",
        "      <td>  1</td>\n",
        "    </tr>\n",
        "  </tbody>\n",
        "</table>\n",
        "</div>"
       ],
       "metadata": {},
       "output_type": "pyout",
       "prompt_number": 199,
       "text": [
        "   id                                               poly  counts\n",
        "0   7  POLYGON ((12.57973653249631 55.67897122530934,...       1\n",
        "1   8  POLYGON ((12.57538207559375 55.67573395017224,...      10\n",
        "2   9  POLYGON ((12.5826025317837 55.67674174792494, ...       2\n",
        "3  10  POLYGON ((12.58490556052964 55.68094553600795,...       2\n",
        "4  11  POLYGON ((12.58545941355171 55.67970058349196,...       1"
       ]
      }
     ],
     "prompt_number": 199
    },
    {
     "cell_type": "code",
     "collapsed": false,
     "input": [
      "cph_location = [56.3,11]\n",
      "outfile = 'cph.html'\n",
      "geo_path = 'data/taxzone.json'\n",
      "map = folium.Map(location=cph_location, zoom_start=7, tiles='Stamen Toner',width=700, height = 700)\n",
      "map.geo_json(geo_path=geo_path, data_out ='test.json', data=map_df,\n",
      "             columns=['id', 'counts'],\n",
      "             key_on='feature.properties.id',\n",
      "             fill_color='YlGnBu', fill_opacity=0.8, line_opacity=0.3,\n",
      "             legend_name='Total Number of users in January  2014')\n",
      "map.create_map(path=outfile)"
     ],
     "language": "python",
     "metadata": {},
     "outputs": [],
     "prompt_number": 200
    },
    {
     "cell_type": "code",
     "collapsed": false,
     "input": [
      "!git pull"
     ],
     "language": "python",
     "metadata": {},
     "outputs": [
      {
       "output_type": "stream",
       "stream": "stdout",
       "text": [
        "Already up-to-date.\r\n"
       ]
      }
     ],
     "prompt_number": 217
    },
    {
     "cell_type": "code",
     "collapsed": false,
     "input": [
      "!git add geovis.ipynb\n",
      "!git add eaxample.csv\n",
      "!git commit -am 'added data '\n",
      "!git push origin master"
     ],
     "language": "python",
     "metadata": {},
     "outputs": [
      {
       "output_type": "stream",
       "stream": "stdout",
       "text": [
        "[master 08081db] added data\r\n",
        " 3 files changed, 1079 insertions(+), 265 deletions(-)\r\n",
        " create mode 100644 eaxample.csv\r\n",
        " rewrite geovis.ipynb (65%)\r\n"
       ]
      },
      {
       "output_type": "stream",
       "stream": "stdout",
       "text": [
        "Counting objects: 5, done.\r\n",
        "Delta compression using up to 8 threads.\r\n",
        "Compressing objects:  20% (1/5)   \r",
        "Compressing objects:  40% (2/5)   \r",
        "Compressing objects:  60% (3/5)   \r",
        "Compressing objects:  80% (4/5)   \r",
        "Compressing objects: 100% (5/5)   \r",
        "Compressing objects: 100% (5/5), done.\r\n",
        "Writing objects:  20% (1/5)   \r",
        "Writing objects:  40% (2/5)   \r",
        "Writing objects:  60% (3/5)   \r",
        "Writing objects:  80% (4/5)   \r",
        "Writing objects: 100% (5/5)   \r",
        "Writing objects: 100% (5/5), 18.51 KiB | 0 bytes/s, done.\r\n",
        "Total 5 (delta 2), reused 0 (delta 0)\r\n"
       ]
      },
      {
       "output_type": "stream",
       "stream": "stdout",
       "text": [
        "To git@github.com:giulioungaretti/opendatahacklab2014.git\r\n",
        "   a517d7d..08081db  master -> master\r\n"
       ]
      }
     ],
     "prompt_number": 218
    },
    {
     "cell_type": "code",
     "collapsed": false,
     "input": [],
     "language": "python",
     "metadata": {},
     "outputs": []
    }
   ],
   "metadata": {}
  }
 ]
}