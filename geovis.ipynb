{
 "metadata": {
  "name": "",
  "signature": "sha256:3d664e74aa69df1942f375b3f45ef3bcf058672f39c87c545137ab4454ae5816"
 },
 "nbformat": 3,
 "nbformat_minor": 0,
 "worksheets": [
  {
   "cells": [
    {
     "cell_type": "code",
     "collapsed": true,
     "input": [
      "%load_ext vimception\n",
      "import numpy as np\n",
      "import pandas as pd "
     ],
     "language": "python",
     "metadata": {},
     "outputs": [
      {
       "output_type": "stream",
       "stream": "stdout",
       "text": [
        "The vimception extension is already loaded. To reload it, use:\n",
        "  %reload_ext vimception\n"
       ]
      }
     ],
     "prompt_number": 175
    },
    {
     "cell_type": "code",
     "collapsed": false,
     "input": [
      "'''\n",
      "munges the pois of Copenhagen such a museums and churches and parks and so on\n",
      "'''\n",
      "\n",
      "import folium\n",
      "import json\n",
      "import pandas as pd\n",
      "import geohash\n",
      "import time\n",
      "from shapely.geometry import shape, Point, Polygon\n",
      "from shapely.prepared import prep # speed up\n",
      "\n",
      "\n",
      "df = pd.DataFrame.from_csv('data/stednavn_flade.csv')\n",
      "# Polygon(\n",
      "\n",
      "def poligonify(row):\n",
      "    a = row.wkb_geometry\n",
      "    try:\n",
      "        c =  np.array( [float(i.rstrip(',')) for i in a[10:].translate(None, '()').split(' ')])\n",
      "        c = c.reshape(c.shape[0]/2, c.shape[0]/(c.shape[0]/2))\n",
      "        Polygon(c)\n",
      "    except:\n",
      "        print 'error'\n",
      "    return Polygon(c)"
     ],
     "language": "python",
     "metadata": {},
     "outputs": [],
     "prompt_number": 176
    },
    {
     "cell_type": "code",
     "collapsed": false,
     "input": [
      "df['poly']  = df.apply(poligonify, axis=1)"
     ],
     "language": "python",
     "metadata": {},
     "outputs": [],
     "prompt_number": 177
    },
    {
     "cell_type": "code",
     "collapsed": false,
     "input": [
      "df['centroids'] = df.apply(lambda row: Point(row.poly.centroid), axis=1)"
     ],
     "language": "python",
     "metadata": {},
     "outputs": [],
     "prompt_number": 178
    },
    {
     "cell_type": "code",
     "collapsed": false,
     "input": [
      "a = df[['id','centroids']]\n",
      "a.to_csv('eaxample.csv')"
     ],
     "language": "python",
     "metadata": {},
     "outputs": [],
     "prompt_number": 214
    },
    {
     "cell_type": "code",
     "collapsed": false,
     "input": [
      "!head eaxample.csv "
     ],
     "language": "python",
     "metadata": {},
     "outputs": [
      {
       "output_type": "stream",
       "stream": "stdout",
       "text": [
        "FID,id,centroids\r\n",
        "stednavn_flade.fid-7af2ebb0_1482643ff9f_-44cb,534,POINT (12.5802945902387 55.67426509455365)\r\n",
        "stednavn_flade.fid-7af2ebb0_1482643ff9f_-44ca,460,POINT (12.55808466063812 55.67452821964581)\r\n",
        "stednavn_flade.fid-7af2ebb0_1482643ff9f_-44c9,554,POINT (12.59111167638243 55.65963090606804)\r\n",
        "stednavn_flade.fid-7af2ebb0_1482643ff9f_-44c8,511,POINT (12.5921817658735 55.6837863548862)\r\n",
        "stednavn_flade.fid-7af2ebb0_1482643ff9f_-44c7,496,POINT (12.59228242043475 55.68612058350929)\r\n",
        "stednavn_flade.fid-7af2ebb0_1482643ff9f_-44c6,607,POINT (12.59124177929709 55.67580077866565)\r\n",
        "stednavn_flade.fid-7af2ebb0_1482643ff9f_-44c5,548,POINT (12.57496635623803 55.67469165074257)\r\n",
        "stednavn_flade.fid-7af2ebb0_1482643ff9f_-44c4,624,POINT (12.58198920216461 55.67402913003475)\r\n",
        "stednavn_flade.fid-7af2ebb0_1482643ff9f_-44c3,918,POINT (12.50762761306523 55.64029731526569)\r\n"
       ]
      }
     ],
     "prompt_number": 215
    },
    {
     "cell_type": "code",
     "collapsed": false,
     "input": [
      "# load GeoJSON file containing sectors\n",
      "with open('data/taxzone.json', 'r') as f:\n",
      "    js = json.load(f)"
     ],
     "language": "python",
     "metadata": {},
     "outputs": [],
     "prompt_number": 179
    },
    {
     "cell_type": "code",
     "collapsed": false,
     "input": [
      "polygons_shape = [shape(feature['geometry']) for feature in  js['features']]\n",
      "names = [feature['properties']['id'] for feature in js['features']]\n",
      "map_df =  pd.DataFrame({'poly':polygons_shape,'id':names})"
     ],
     "language": "python",
     "metadata": {},
     "outputs": [],
     "prompt_number": 195
    },
    {
     "cell_type": "code",
     "collapsed": false,
     "input": [
      "def do(row):\n",
      "    return len(filter(row.poly.contains, df.centroids))"
     ],
     "language": "python",
     "metadata": {},
     "outputs": [],
     "prompt_number": 196
    },
    {
     "cell_type": "code",
     "collapsed": false,
     "input": [
      "map_df['counts'] = map_df.apply(do,axis=1)"
     ],
     "language": "python",
     "metadata": {},
     "outputs": [],
     "prompt_number": 197
    },
    {
     "cell_type": "code",
     "collapsed": false,
     "input": [
      "map_df.head()"
     ],
     "language": "python",
     "metadata": {},
     "outputs": [
      {
       "html": [
        "<div style=\"max-height:1000px;max-width:1500px;overflow:auto;\">\n",
        "<table border=\"1\" class=\"dataframe\">\n",
        "  <thead>\n",
        "    <tr style=\"text-align: right;\">\n",
        "      <th></th>\n",
        "      <th>id</th>\n",
        "      <th>poly</th>\n",
        "      <th>counts</th>\n",
        "    </tr>\n",
        "  </thead>\n",
        "  <tbody>\n",
        "    <tr>\n",
        "      <th>0</th>\n",
        "      <td>  7</td>\n",
        "      <td> POLYGON ((12.57973653249631 55.67897122530934,...</td>\n",
        "      <td>  1</td>\n",
        "    </tr>\n",
        "    <tr>\n",
        "      <th>1</th>\n",
        "      <td>  8</td>\n",
        "      <td> POLYGON ((12.57538207559375 55.67573395017224,...</td>\n",
        "      <td> 10</td>\n",
        "    </tr>\n",
        "    <tr>\n",
        "      <th>2</th>\n",
        "      <td>  9</td>\n",
        "      <td> POLYGON ((12.5826025317837 55.67674174792494, ...</td>\n",
        "      <td>  2</td>\n",
        "    </tr>\n",
        "    <tr>\n",
        "      <th>3</th>\n",
        "      <td> 10</td>\n",
        "      <td> POLYGON ((12.58490556052964 55.68094553600795,...</td>\n",
        "      <td>  2</td>\n",
        "    </tr>\n",
        "    <tr>\n",
        "      <th>4</th>\n",
        "      <td> 11</td>\n",
        "      <td> POLYGON ((12.58545941355171 55.67970058349196,...</td>\n",
        "      <td>  1</td>\n",
        "    </tr>\n",
        "  </tbody>\n",
        "</table>\n",
        "</div>"
       ],
       "metadata": {},
       "output_type": "pyout",
       "prompt_number": 199,
       "text": [
        "   id                                               poly  counts\n",
        "0   7  POLYGON ((12.57973653249631 55.67897122530934,...       1\n",
        "1   8  POLYGON ((12.57538207559375 55.67573395017224,...      10\n",
        "2   9  POLYGON ((12.5826025317837 55.67674174792494, ...       2\n",
        "3  10  POLYGON ((12.58490556052964 55.68094553600795,...       2\n",
        "4  11  POLYGON ((12.58545941355171 55.67970058349196,...       1"
       ]
      }
     ],
     "prompt_number": 199
    },
    {
     "cell_type": "code",
     "collapsed": false,
     "input": [
      "cph_location = [56.3,11]\n",
      "outfile = 'cph.html'\n",
      "geo_path = 'data/taxzone.json'\n",
      "map = folium.Map(location=cph_location, zoom_start=7, tiles='Stamen Toner',width=700, height = 700)\n",
      "map.geo_json(geo_path=geo_path, data_out ='test.json', data=map_df,\n",
      "             columns=['id', 'counts'],\n",
      "             key_on='feature.properties.id',\n",
      "             fill_color='YlGnBu', fill_opacity=0.8, line_opacity=0.3,\n",
      "             legend_name='Total Number of users in January  2014')\n",
      "map.create_map(path=outfile)"
     ],
     "language": "python",
     "metadata": {},
     "outputs": [],
     "prompt_number": 200
    },
    {
     "cell_type": "code",
     "collapsed": false,
     "input": [
      "!git pull"
     ],
     "language": "python",
     "metadata": {},
     "outputs": [
      {
       "output_type": "stream",
       "stream": "stdout",
       "text": [
        "Already up-to-date.\r\n"
       ]
      }
     ],
     "prompt_number": 216
    },
    {
     "cell_type": "code",
     "collapsed": false,
     "input": [
      "!git add geovis.ipynb\n",
      "!git commit -am 'fixed data much'\n",
      "!git push origin master"
     ],
     "language": "python",
     "metadata": {},
     "outputs": [
      {
       "output_type": "stream",
       "stream": "stdout",
       "text": [
        "[master a517d7d] fixed data much\r\n",
        " 1 file changed, 101 insertions(+), 13 deletions(-)\r\n"
       ]
      },
      {
       "output_type": "stream",
       "stream": "stdout",
       "text": [
        "Counting objects: 3, done.\r\n",
        "Delta compression using up to 8 threads.\r\n",
        "Compressing objects:  33% (1/3)   \r",
        "Compressing objects:  66% (2/3)   \r",
        "Compressing objects: 100% (3/3)   \r",
        "Compressing objects: 100% (3/3), done.\r\n",
        "Writing objects:  33% (1/3)   \r",
        "Writing objects:  66% (2/3)   \r",
        "Writing objects: 100% (3/3)   \r",
        "Writing objects: 100% (3/3), 2.86 KiB | 0 bytes/s, done.\r\n",
        "Total 3 (delta 1), reused 0 (delta 0)\r\n"
       ]
      },
      {
       "output_type": "stream",
       "stream": "stdout",
       "text": [
        "To git@github.com:giulioungaretti/opendatahacklab2014.git\r\n",
        "   14778ca..a517d7d  master -> master\r\n"
       ]
      }
     ],
     "prompt_number": 187
    },
    {
     "cell_type": "code",
     "collapsed": false,
     "input": [],
     "language": "python",
     "metadata": {},
     "outputs": []
    }
   ],
   "metadata": {}
  }
 ]
}