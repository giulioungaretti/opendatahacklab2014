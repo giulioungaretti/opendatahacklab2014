{
 "metadata": {
  "name": "",
  "signature": "sha256:ea2cb42e259c537a616b2495277132b7d234e2c9ba7fa8dcfa2badea81c8c4d3"
 },
 "nbformat": 3,
 "nbformat_minor": 0,
 "worksheets": [
  {
   "cells": [
    {
     "cell_type": "code",
     "collapsed": true,
     "input": [
      "# %load_ext vimception\n",
      "import numpy as np\n",
      "import pandas as pd "
     ],
     "language": "python",
     "metadata": {},
     "outputs": [],
     "prompt_number": 1
    },
    {
     "cell_type": "code",
     "collapsed": false,
     "input": [
      "'''\n",
      "munges the pois of Copenhagen such a museums and churches and parks and so on\n",
      "'''\n",
      "\n",
      "import folium\n",
      "import json\n",
      "import pandas as pd\n",
      "# import geohash\n",
      "import time\n",
      "from shapely.geometry import shape, Point, Polygon\n",
      "from shapely.prepared import prep # speed up\n",
      "\n",
      "\n",
      "df = pd.DataFrame.from_csv('data/stednavn_flade.csv')\n",
      "# Polygon(\n",
      "\n",
      "def poligonify(row):\n",
      "    a = row.wkb_geometry\n",
      "    try:\n",
      "        c =  np.array( [float(i.rstrip(',')) for i in a[10:].translate(None, '()').split(' ')])\n",
      "        c = c.reshape(c.shape[0]/2, c.shape[0]/(c.shape[0]/2))\n",
      "        Polygon(c)\n",
      "    except:\n",
      "        print 'error'\n",
      "    return Polygon(c)"
     ],
     "language": "python",
     "metadata": {},
     "outputs": [],
     "prompt_number": 2
    },
    {
     "cell_type": "code",
     "collapsed": false,
     "input": [
      "df['poly']  = df.apply(poligonify, axis=1)"
     ],
     "language": "python",
     "metadata": {},
     "outputs": [],
     "prompt_number": 3
    },
    {
     "cell_type": "code",
     "collapsed": false,
     "input": [
      "df['centroids'] = df.apply(lambda row: Point(row.poly.centroid), axis=1)"
     ],
     "language": "python",
     "metadata": {},
     "outputs": [],
     "prompt_number": 4
    },
    {
     "cell_type": "code",
     "collapsed": false,
     "input": [
      "map_df_trafic = pd.DataFrame({'poly':res.keys(),'counts':res.values()})"
     ],
     "language": "python",
     "metadata": {},
     "outputs": [
      {
       "ename": "NameError",
       "evalue": "name 'res' is not defined",
       "output_type": "pyerr",
       "traceback": [
        "\u001b[0;31m---------------------------------------------------------------------------\u001b[0m\n\u001b[0;31mNameError\u001b[0m                                 Traceback (most recent call last)",
        "\u001b[0;32m<ipython-input-5-31411dd2e052>\u001b[0m in \u001b[0;36m<module>\u001b[0;34m()\u001b[0m\n\u001b[0;32m----> 1\u001b[0;31m \u001b[0mmap_df_trafic\u001b[0m \u001b[0;34m=\u001b[0m \u001b[0mpd\u001b[0m\u001b[0;34m.\u001b[0m\u001b[0mDataFrame\u001b[0m\u001b[0;34m(\u001b[0m\u001b[0;34m{\u001b[0m\u001b[0;34m'poly'\u001b[0m\u001b[0;34m:\u001b[0m\u001b[0mres\u001b[0m\u001b[0;34m.\u001b[0m\u001b[0mkeys\u001b[0m\u001b[0;34m(\u001b[0m\u001b[0;34m)\u001b[0m\u001b[0;34m,\u001b[0m\u001b[0;34m'counts'\u001b[0m\u001b[0;34m:\u001b[0m\u001b[0mres\u001b[0m\u001b[0;34m.\u001b[0m\u001b[0mvalues\u001b[0m\u001b[0;34m(\u001b[0m\u001b[0;34m)\u001b[0m\u001b[0;34m}\u001b[0m\u001b[0;34m)\u001b[0m\u001b[0;34m\u001b[0m\u001b[0m\n\u001b[0m",
        "\u001b[0;31mNameError\u001b[0m: name 'res' is not defined"
       ]
      }
     ],
     "prompt_number": 5
    },
    {
     "cell_type": "code",
     "collapsed": false,
     "input": [
      "map_df['poicounts'] = map_df.apply(do,axis=1)"
     ],
     "language": "python",
     "metadata": {},
     "outputs": [
      {
       "ename": "NameError",
       "evalue": "name 'map_df' is not defined",
       "output_type": "pyerr",
       "traceback": [
        "\u001b[0;31m---------------------------------------------------------------------------\u001b[0m\n\u001b[0;31mNameError\u001b[0m                                 Traceback (most recent call last)",
        "\u001b[0;32m<ipython-input-6-250c97151b1e>\u001b[0m in \u001b[0;36m<module>\u001b[0;34m()\u001b[0m\n\u001b[0;32m----> 1\u001b[0;31m \u001b[0mmap_df\u001b[0m\u001b[0;34m[\u001b[0m\u001b[0;34m'poicounts'\u001b[0m\u001b[0;34m]\u001b[0m \u001b[0;34m=\u001b[0m \u001b[0mmap_df\u001b[0m\u001b[0;34m.\u001b[0m\u001b[0mapply\u001b[0m\u001b[0;34m(\u001b[0m\u001b[0mdo\u001b[0m\u001b[0;34m,\u001b[0m\u001b[0maxis\u001b[0m\u001b[0;34m=\u001b[0m\u001b[0;36m1\u001b[0m\u001b[0;34m)\u001b[0m\u001b[0;34m\u001b[0m\u001b[0m\n\u001b[0m",
        "\u001b[0;31mNameError\u001b[0m: name 'map_df' is not defined"
       ]
      }
     ],
     "prompt_number": 6
    },
    {
     "cell_type": "markdown",
     "metadata": {},
     "source": [
      "Guen traffic data"
     ]
    },
    {
     "cell_type": "code",
     "collapsed": false,
     "input": [
      "cars = pd.io.json.read_json('data/trafiktal.json')\n",
      "cars['points'] = cars.apply(lambda row: Point(row.coords), axis=1)"
     ],
     "language": "python",
     "metadata": {},
     "outputs": [],
     "prompt_number": 7
    },
    {
     "cell_type": "code",
     "collapsed": false,
     "input": [
      "bikes = pd.io.json.read_json('data/cykler.json')\n",
      "bikes['points'] = bikes.apply(lambda row: Point(row.coords), axis=1)"
     ],
     "language": "python",
     "metadata": {},
     "outputs": [],
     "prompt_number": 8
    },
    {
     "cell_type": "code",
     "collapsed": false,
     "input": [
      "ages = pd.io.json.read_json('data/average_age.json')\n",
      "ages['points'] = ages.apply(lambda row: Point(row.coords), axis=1)"
     ],
     "language": "python",
     "metadata": {},
     "outputs": [],
     "prompt_number": 9
    },
    {
     "cell_type": "code",
     "collapsed": false,
     "input": [
      "parking = pd.io.json.read_json('data/parkingdata.json')\n",
      "parking['points'] = parking.apply(lambda row: Point(row.coords), axis=1)"
     ],
     "language": "python",
     "metadata": {},
     "outputs": [],
     "prompt_number": 10
    },
    {
     "cell_type": "code",
     "collapsed": false,
     "input": [
      "male_singles = pd.io.json.read_json('data/male_singles.json')\n",
      "male_singles['points'] = male_singles.apply(lambda row: Point(row.coords), axis=1)"
     ],
     "language": "python",
     "metadata": {},
     "outputs": [],
     "prompt_number": 203
    },
    {
     "cell_type": "code",
     "collapsed": false,
     "input": [
      "female_singles = pd.io.json.read_json('data/female_singles.json')\n",
      "female_singles['points'] = female_singles.apply(lambda row: Point(row.coords), axis=1)"
     ],
     "language": "python",
     "metadata": {},
     "outputs": [],
     "prompt_number": 204
    },
    {
     "cell_type": "code",
     "collapsed": false,
     "input": [
      "digging = pd.io.json.read_json('data/digging.json')\n",
      "digging['points'] = digging.apply(lambda row: Point(row.coords), axis=1)"
     ],
     "language": "python",
     "metadata": {},
     "outputs": [],
     "prompt_number": 212
    },
    {
     "cell_type": "code",
     "collapsed": false,
     "input": [
      "datasets = [cars, bikes, ages, parking, male_singles, female_singles, digging]\n",
      "colnames = ['cars', 'bikes', 'ages', 'parking', 'male_singles', 'female_singles', 'digging']"
     ],
     "language": "python",
     "metadata": {},
     "outputs": [],
     "prompt_number": 213
    },
    {
     "cell_type": "code",
     "collapsed": false,
     "input": [
      "# load GeoJSON file containing sectors\n",
      "with open('data/taxzone.json', 'r') as f:\n",
      "    js = json.load(f)"
     ],
     "language": "python",
     "metadata": {},
     "outputs": [],
     "prompt_number": 214
    },
    {
     "cell_type": "code",
     "collapsed": false,
     "input": [
      "def do(row):\n",
      "    return len(filter(row.poly.contains, df.centroids))"
     ],
     "language": "python",
     "metadata": {},
     "outputs": [],
     "prompt_number": 215
    },
    {
     "cell_type": "code",
     "collapsed": false,
     "input": [
      "polygons_shape = [shape(feature['geometry']) for feature in  js['features']]\n",
      "names = [feature['properties']['id'] for feature in js['features']]\n",
      "map_df =  pd.DataFrame({'poly':polygons_shape,'id':names})\n",
      "map_df['poi'] = map_df.apply(do,axis=1)"
     ],
     "language": "python",
     "metadata": {},
     "outputs": [],
     "prompt_number": 216
    },
    {
     "cell_type": "code",
     "collapsed": false,
     "input": [
      "map_dfs = [map_df]\n",
      "\n",
      "for m in np.arange(0,len(datasets)):\n",
      "    dataset = datasets[m]\n",
      "    colname = colnames[m]\n",
      "    res = {}\n",
      "    for polygon in map_df.poly:\n",
      "        counts =0\n",
      "        for point in dataset.points:\n",
      "            if polygon.contains(point):\n",
      "                counts += int(dataset['count'][dataset.points==point])\n",
      "        res[polygon] = counts\n",
      "    map_df_dataset = pd.DataFrame({'poly':res.keys(),colname:res.values()})\n",
      "    map_dfs.append(map_df_dataset)"
     ],
     "language": "python",
     "metadata": {},
     "outputs": [],
     "prompt_number": 217
    },
    {
     "cell_type": "code",
     "collapsed": false,
     "input": [
      "data = map_dfs[0]\n",
      "for m in np.arange(1,len(map_dfs)):\n",
      "    data = pd.merge(data, map_dfs[m], on='poly', how='outer')"
     ],
     "language": "python",
     "metadata": {},
     "outputs": [],
     "prompt_number": 218
    },
    {
     "cell_type": "code",
     "collapsed": false,
     "input": [
      "colnames.insert(0,'poi')"
     ],
     "language": "python",
     "metadata": {},
     "outputs": [],
     "prompt_number": 219
    },
    {
     "cell_type": "code",
     "collapsed": false,
     "input": [
      "indexcol = data['id']*0"
     ],
     "language": "python",
     "metadata": {},
     "outputs": [],
     "prompt_number": 129
    },
    {
     "cell_type": "code",
     "collapsed": false,
     "input": [
      "index_cols = []\n",
      "myage = 28\n",
      "refs = [data.poi.max(), data.cars.mean(), data.bikes.max(), myage, data.parking.max(), data.male_singles.max(), data.female_singles.max()]\n",
      "weights = [10, 0, 0, 0, 0, 0, 0]\n",
      "data['index'] = ((weights[0] * 0.1 * abs(data['poi']-refs[0])/refs[0]) + (weights[1] * 0.1 * (data['cars']-refs[1])/refs[1]) + (weights[2] * 0.1 * (data['bikes']-refs[2])/refs[2]) + (weights[3] * 0.1 * (data['ages']-refs[3])/refs[3]) + (weights[4] * 0.1 * (data['parking']-refs[4])/refs[4]))\n",
      "data.index = 10.0*data.index/data.index.max()"
     ],
     "language": "python",
     "metadata": {},
     "outputs": [],
     "prompt_number": 220
    },
    {
     "cell_type": "code",
     "collapsed": false,
     "input": [
      "cph_location = [55.6181, 12.6561]\n",
      "geo_path = 'data/taxzone.json' #json file with map\n",
      "outfile = 'cph.html'\n",
      "map = folium.Map(location=cph_location, zoom_start=12, tiles='Stamen Toner',width=1300, height =1300)\n",
      "map.geo_json(geo_path=geo_path, data_out ='test.json', data=data,\n",
      "             columns=['id', 'digging'],\n",
      "             key_on='feature.properties.id',\n",
      "             fill_color='YlGnBu', fill_opacity=0.8, line_opacity=0.3,\n",
      "             legend_name='index of awesomeness')\n",
      "map.create_map(path=outfile)"
     ],
     "language": "python",
     "metadata": {},
     "outputs": [],
     "prompt_number": 222
    },
    {
     "cell_type": "code",
     "collapsed": false,
     "input": [
      "!git pull"
     ],
     "language": "python",
     "metadata": {},
     "outputs": [
      {
       "output_type": "stream",
       "stream": "stdout",
       "text": [
        "Already up-to-date.\r\n"
       ]
      }
     ],
     "prompt_number": 26
    },
    {
     "cell_type": "code",
     "collapsed": false,
     "input": [
      "!git add vis.ipynb\n",
      "!git commit -am 'added trafic data'\n",
      "!git push origin master"
     ],
     "language": "python",
     "metadata": {},
     "outputs": [
      {
       "output_type": "stream",
       "stream": "stdout",
       "text": [
        "[master d45ae2d] added trafic data\r\n",
        " 2 files changed, 175 insertions(+), 27 deletions(-)\r\n"
       ]
      },
      {
       "output_type": "stream",
       "stream": "stdout",
       "text": [
        "Counting objects: 4, done.\r\n",
        "Delta compression using up to 8 threads.\r\n",
        "Compressing objects:  25% (1/4)   \r",
        "Compressing objects:  50% (2/4)   \r",
        "Compressing objects:  75% (3/4)   \r",
        "Compressing objects: 100% (4/4)   \r",
        "Compressing objects: 100% (4/4), done.\r\n",
        "Writing objects:  25% (1/4)   \r",
        "Writing objects:  50% (2/4)   \r",
        "Writing objects:  75% (3/4)   \r",
        "Writing objects: 100% (4/4)   \r",
        "Writing objects: 100% (4/4), 2.05 KiB | 0 bytes/s, done.\r\n",
        "Total 4 (delta 3), reused 0 (delta 0)\r\n"
       ]
      },
      {
       "output_type": "stream",
       "stream": "stdout",
       "text": [
        "To git@github.com:giulioungaretti/opendatahacklab2014.git\r\n",
        "   3b98e7f..d45ae2d  master -> master\r\n"
       ]
      }
     ],
     "prompt_number": 27
    },
    {
     "cell_type": "code",
     "collapsed": false,
     "input": [
      "np.linspace(1,10,6)"
     ],
     "language": "python",
     "metadata": {},
     "outputs": [
      {
       "metadata": {},
       "output_type": "pyout",
       "prompt_number": 178,
       "text": [
        "array([  1. ,   2.8,   4.6,   6.4,   8.2,  10. ])"
       ]
      }
     ],
     "prompt_number": 178
    },
    {
     "cell_type": "code",
     "collapsed": false,
     "input": [],
     "language": "python",
     "metadata": {},
     "outputs": []
    }
   ],
   "metadata": {}
  }
 ]
}