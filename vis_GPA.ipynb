{
 "metadata": {
  "name": "",
  "signature": "sha256:e4e7d9114fe429071d84f3a9be1188419f2413bda340267d66141bc5034daecc"
 },
 "nbformat": 3,
 "nbformat_minor": 0,
 "worksheets": [
  {
   "cells": [
    {
     "cell_type": "code",
     "collapsed": true,
     "input": [
      "# %load_ext vimception\n",
      "import numpy as np\n",
      "import pandas as pd "
     ],
     "language": "python",
     "metadata": {},
     "outputs": [],
     "prompt_number": 223
    },
    {
     "cell_type": "code",
     "collapsed": false,
     "input": [
      "'''\n",
      "munges the pois of Copenhagen such a museums and churches and parks and so on\n",
      "'''\n",
      "\n",
      "import folium\n",
      "import json\n",
      "import pandas as pd\n",
      "# import geohash\n",
      "import time\n",
      "from shapely.geometry import shape, Point, Polygon\n",
      "from shapely.prepared import prep # speed up\n",
      "\n",
      "\n",
      "df = pd.DataFrame.from_csv('data/stednavn_flade.csv')\n",
      "# Polygon(\n",
      "\n",
      "def poligonify(row):\n",
      "    a = row.wkb_geometry\n",
      "    try:\n",
      "        c =  np.array( [float(i.rstrip(',')) for i in a[10:].translate(None, '()').split(' ')])\n",
      "        c = c.reshape(c.shape[0]/2, c.shape[0]/(c.shape[0]/2))\n",
      "        Polygon(c)\n",
      "    except:\n",
      "        print 'error'\n",
      "    return Polygon(c)"
     ],
     "language": "python",
     "metadata": {},
     "outputs": [],
     "prompt_number": 224
    },
    {
     "cell_type": "code",
     "collapsed": false,
     "input": [
      "import json\n",
      "\n",
      "def toJson(dealer, map_df):\n",
      "    '''\n",
      "    save json file to disk as a json list of list\n",
      "    i.e. [{\"keyonval\":count }..]\n",
      "    '''\n",
      "    dictionary = [dict(zip(map_df.id, map_df.counts))]\n",
      "    with open('data/{0}_data.json'.format(dealer), 'w') as outfile:\n",
      "        json.dump(dictionary, outfile)"
     ],
     "language": "python",
     "metadata": {},
     "outputs": [],
     "prompt_number": 254
    },
    {
     "cell_type": "code",
     "collapsed": false,
     "input": [
      "df['poly']  = df.apply(poligonify, axis=1)"
     ],
     "language": "python",
     "metadata": {},
     "outputs": [],
     "prompt_number": 225
    },
    {
     "cell_type": "code",
     "collapsed": false,
     "input": [
      "df['centroids'] = df.apply(lambda row: Point(row.poly.centroid), axis=1)"
     ],
     "language": "python",
     "metadata": {},
     "outputs": [],
     "prompt_number": 226
    },
    {
     "cell_type": "code",
     "collapsed": false,
     "input": [
      "map_df_trafic = pd.DataFrame({'poly':res.keys(),'counts':res.values()})"
     ],
     "language": "python",
     "metadata": {},
     "outputs": [
      {
       "ename": "NameError",
       "evalue": "name 'res' is not defined",
       "output_type": "pyerr",
       "traceback": [
        "\u001b[0;31m---------------------------------------------------------------------------\u001b[0m\n\u001b[0;31mNameError\u001b[0m                                 Traceback (most recent call last)",
        "\u001b[0;32m<ipython-input-5-31411dd2e052>\u001b[0m in \u001b[0;36m<module>\u001b[0;34m()\u001b[0m\n\u001b[0;32m----> 1\u001b[0;31m \u001b[0mmap_df_trafic\u001b[0m \u001b[0;34m=\u001b[0m \u001b[0mpd\u001b[0m\u001b[0;34m.\u001b[0m\u001b[0mDataFrame\u001b[0m\u001b[0;34m(\u001b[0m\u001b[0;34m{\u001b[0m\u001b[0;34m'poly'\u001b[0m\u001b[0;34m:\u001b[0m\u001b[0mres\u001b[0m\u001b[0;34m.\u001b[0m\u001b[0mkeys\u001b[0m\u001b[0;34m(\u001b[0m\u001b[0;34m)\u001b[0m\u001b[0;34m,\u001b[0m\u001b[0;34m'counts'\u001b[0m\u001b[0;34m:\u001b[0m\u001b[0mres\u001b[0m\u001b[0;34m.\u001b[0m\u001b[0mvalues\u001b[0m\u001b[0;34m(\u001b[0m\u001b[0;34m)\u001b[0m\u001b[0;34m}\u001b[0m\u001b[0;34m)\u001b[0m\u001b[0;34m\u001b[0m\u001b[0m\n\u001b[0m",
        "\u001b[0;31mNameError\u001b[0m: name 'res' is not defined"
       ]
      }
     ],
     "prompt_number": 5
    },
    {
     "cell_type": "code",
     "collapsed": false,
     "input": [
      "map_df['poicounts'] = map_df.apply(do,axis=1)"
     ],
     "language": "python",
     "metadata": {},
     "outputs": [
      {
       "ename": "NameError",
       "evalue": "name 'map_df' is not defined",
       "output_type": "pyerr",
       "traceback": [
        "\u001b[0;31m---------------------------------------------------------------------------\u001b[0m\n\u001b[0;31mNameError\u001b[0m                                 Traceback (most recent call last)",
        "\u001b[0;32m<ipython-input-6-250c97151b1e>\u001b[0m in \u001b[0;36m<module>\u001b[0;34m()\u001b[0m\n\u001b[0;32m----> 1\u001b[0;31m \u001b[0mmap_df\u001b[0m\u001b[0;34m[\u001b[0m\u001b[0;34m'poicounts'\u001b[0m\u001b[0;34m]\u001b[0m \u001b[0;34m=\u001b[0m \u001b[0mmap_df\u001b[0m\u001b[0;34m.\u001b[0m\u001b[0mapply\u001b[0m\u001b[0;34m(\u001b[0m\u001b[0mdo\u001b[0m\u001b[0;34m,\u001b[0m\u001b[0maxis\u001b[0m\u001b[0;34m=\u001b[0m\u001b[0;36m1\u001b[0m\u001b[0;34m)\u001b[0m\u001b[0;34m\u001b[0m\u001b[0m\n\u001b[0m",
        "\u001b[0;31mNameError\u001b[0m: name 'map_df' is not defined"
       ]
      }
     ],
     "prompt_number": 6
    },
    {
     "cell_type": "markdown",
     "metadata": {},
     "source": [
      "Guen traffic data"
     ]
    },
    {
     "cell_type": "code",
     "collapsed": false,
     "input": [
      "cars = pd.io.json.read_json('data/trafiktal.json')\n",
      "cars['points'] = cars.apply(lambda row: Point(row.coords), axis=1)"
     ],
     "language": "python",
     "metadata": {},
     "outputs": [],
     "prompt_number": 377
    },
    {
     "cell_type": "code",
     "collapsed": false,
     "input": [
      "bikes = pd.io.json.read_json('data/cykler.json')\n",
      "bikes['points'] = bikes.apply(lambda row: Point(row.coords), axis=1)"
     ],
     "language": "python",
     "metadata": {},
     "outputs": [],
     "prompt_number": 378
    },
    {
     "cell_type": "code",
     "collapsed": false,
     "input": [
      "ages = pd.io.json.read_json('data/average_age.json')\n",
      "ages['points'] = ages.apply(lambda row: Point(row.coords), axis=1)"
     ],
     "language": "python",
     "metadata": {},
     "outputs": [],
     "prompt_number": 379
    },
    {
     "cell_type": "code",
     "collapsed": false,
     "input": [
      "parking = pd.io.json.read_json('data/parkingdata.json')\n",
      "parking['points'] = parking.apply(lambda row: Point(row.coords), axis=1)"
     ],
     "language": "python",
     "metadata": {},
     "outputs": [],
     "prompt_number": 380
    },
    {
     "cell_type": "code",
     "collapsed": false,
     "input": [
      "male_singles = pd.io.json.read_json('data/male_singles.json')\n",
      "male_singles['points'] = male_singles.apply(lambda row: Point(row.coords), axis=1)"
     ],
     "language": "python",
     "metadata": {},
     "outputs": [],
     "prompt_number": 381
    },
    {
     "cell_type": "code",
     "collapsed": false,
     "input": [
      "male_singles['count'] = male_singles['count']*100"
     ],
     "language": "python",
     "metadata": {},
     "outputs": [],
     "prompt_number": 382
    },
    {
     "cell_type": "code",
     "collapsed": false,
     "input": [
      "female_singles = pd.io.json.read_json('data/female_singles.json')\n",
      "female_singles['points'] = female_singles.apply(lambda row: Point(row.coords), axis=1)"
     ],
     "language": "python",
     "metadata": {},
     "outputs": [],
     "prompt_number": 383
    },
    {
     "cell_type": "code",
     "collapsed": false,
     "input": [
      "female_singles['count'] = female_singles['count']*100"
     ],
     "language": "python",
     "metadata": {},
     "outputs": [],
     "prompt_number": 384
    },
    {
     "cell_type": "code",
     "collapsed": false,
     "input": [
      "digging = pd.io.json.read_json('data/digging.json')\n",
      "digging['points'] = digging.apply(lambda row: Point(row.coords), axis=1)"
     ],
     "language": "python",
     "metadata": {},
     "outputs": [],
     "prompt_number": 385
    },
    {
     "cell_type": "code",
     "collapsed": false,
     "input": [
      "datasets = [cars, bikes, ages, parking, male_singles, female_singles, digging]\n",
      "colnames = ['cars', 'bikes', 'ages', 'parking', 'male_singles', 'female_singles', 'digging']"
     ],
     "language": "python",
     "metadata": {},
     "outputs": [],
     "prompt_number": 386
    },
    {
     "cell_type": "code",
     "collapsed": false,
     "input": [
      "# load GeoJSON file containing sectors\n",
      "with open('data/taxzone.json', 'r') as f:\n",
      "    js = json.load(f)"
     ],
     "language": "python",
     "metadata": {},
     "outputs": [],
     "prompt_number": 401
    },
    {
     "cell_type": "code",
     "collapsed": false,
     "input": [
      "def do(row):\n",
      "    return len(filter(row.poly.contains, df.centroids))"
     ],
     "language": "python",
     "metadata": {},
     "outputs": [],
     "prompt_number": 402
    },
    {
     "cell_type": "code",
     "collapsed": false,
     "input": [
      "polygons_shape = [shape(feature['geometry']) for feature in  js['features']]\n",
      "names = [feature['properties']['id'] for feature in js['features']]\n",
      "map_df =  pd.DataFrame({'poly':polygons_shape,'id':names})\n",
      "map_df['counts'] = map_df.apply(do,axis=1)"
     ],
     "language": "python",
     "metadata": {},
     "outputs": [],
     "prompt_number": 413
    },
    {
     "cell_type": "code",
     "collapsed": false,
     "input": [
      "map_df_poi = map_df"
     ],
     "language": "python",
     "metadata": {},
     "outputs": [],
     "prompt_number": 414
    },
    {
     "cell_type": "code",
     "collapsed": false,
     "input": [
      "map_dfs = [map_df_poi]\n",
      "\n",
      "for m in np.arange(0,len(datasets)):\n",
      "    dataset = datasets[m]\n",
      "    colname = colnames[m]\n",
      "    res = []\n",
      "    for polygon in polygons_shape:\n",
      "        counts = 0\n",
      "        n=0\n",
      "        for point in dataset.points:\n",
      "            if polygon.contains(point):\n",
      "                counts += int(dataset['count'][dataset.points==point])\n",
      "                n+=1.0\n",
      "        if n>0:\n",
      "            counts = counts/n\n",
      "        res.append(counts)\n",
      "    map_df_dataset = pd.DataFrame({'poly':polygons_shape,'id':names,'counts':res})\n",
      "    map_dfs.append(map_df_dataset)"
     ],
     "language": "python",
     "metadata": {},
     "outputs": [],
     "prompt_number": 441
    },
    {
     "cell_type": "code",
     "collapsed": false,
     "input": [
      "for (colname, map_df) in zip(colnames, map_dfs):\n",
      "    toJson(colname, map_df)"
     ],
     "language": "python",
     "metadata": {},
     "outputs": [],
     "prompt_number": 442
    },
    {
     "cell_type": "code",
     "collapsed": false,
     "input": [
      "colnames"
     ],
     "language": "python",
     "metadata": {},
     "outputs": [
      {
       "metadata": {},
       "output_type": "pyout",
       "prompt_number": 425,
       "text": [
        "['poi',\n",
        " 'cars',\n",
        " 'bikes',\n",
        " 'ages',\n",
        " 'parking',\n",
        " 'male_singles',\n",
        " 'female_singles',\n",
        " 'digging']"
       ]
      }
     ],
     "prompt_number": 425
    },
    {
     "cell_type": "code",
     "collapsed": false,
     "input": [
      "data = map_dfs[0]\n",
      "for m in np.arange(1,len(map_dfs)):\n",
      "    data = pd.merge(data, map_dfs[m], on='poly', how='outer')"
     ],
     "language": "python",
     "metadata": {},
     "outputs": [],
     "prompt_number": 391
    },
    {
     "cell_type": "code",
     "collapsed": false,
     "input": [
      "colnames.insert(0,'poi')"
     ],
     "language": "python",
     "metadata": {},
     "outputs": [],
     "prompt_number": 392
    },
    {
     "cell_type": "code",
     "collapsed": false,
     "input": [
      "indexcol = data['id']*0"
     ],
     "language": "python",
     "metadata": {},
     "outputs": [
      {
       "ename": "KeyError",
       "evalue": "'id'",
       "output_type": "pyerr",
       "traceback": [
        "\u001b[0;31m---------------------------------------------------------------------------\u001b[0m\n\u001b[0;31mKeyError\u001b[0m                                  Traceback (most recent call last)",
        "\u001b[0;32m<ipython-input-393-0c64b3751009>\u001b[0m in \u001b[0;36m<module>\u001b[0;34m()\u001b[0m\n\u001b[0;32m----> 1\u001b[0;31m \u001b[0mindexcol\u001b[0m \u001b[0;34m=\u001b[0m \u001b[0mdata\u001b[0m\u001b[0;34m[\u001b[0m\u001b[0;34m'id'\u001b[0m\u001b[0;34m]\u001b[0m\u001b[0;34m*\u001b[0m\u001b[0;36m0\u001b[0m\u001b[0;34m\u001b[0m\u001b[0m\n\u001b[0m",
        "\u001b[0;32m/Users/Guen/anaconda/lib/python2.7/site-packages/pandas/core/frame.pyc\u001b[0m in \u001b[0;36m__getitem__\u001b[0;34m(self, key)\u001b[0m\n\u001b[1;32m   1682\u001b[0m             \u001b[0;32mreturn\u001b[0m \u001b[0mself\u001b[0m\u001b[0;34m.\u001b[0m\u001b[0m_getitem_multilevel\u001b[0m\u001b[0;34m(\u001b[0m\u001b[0mkey\u001b[0m\u001b[0;34m)\u001b[0m\u001b[0;34m\u001b[0m\u001b[0m\n\u001b[1;32m   1683\u001b[0m         \u001b[0;32melse\u001b[0m\u001b[0;34m:\u001b[0m\u001b[0;34m\u001b[0m\u001b[0m\n\u001b[0;32m-> 1684\u001b[0;31m             \u001b[0;32mreturn\u001b[0m \u001b[0mself\u001b[0m\u001b[0;34m.\u001b[0m\u001b[0m_getitem_column\u001b[0m\u001b[0;34m(\u001b[0m\u001b[0mkey\u001b[0m\u001b[0;34m)\u001b[0m\u001b[0;34m\u001b[0m\u001b[0m\n\u001b[0m\u001b[1;32m   1685\u001b[0m \u001b[0;34m\u001b[0m\u001b[0m\n\u001b[1;32m   1686\u001b[0m     \u001b[0;32mdef\u001b[0m \u001b[0m_getitem_column\u001b[0m\u001b[0;34m(\u001b[0m\u001b[0mself\u001b[0m\u001b[0;34m,\u001b[0m \u001b[0mkey\u001b[0m\u001b[0;34m)\u001b[0m\u001b[0;34m:\u001b[0m\u001b[0;34m\u001b[0m\u001b[0m\n",
        "\u001b[0;32m/Users/Guen/anaconda/lib/python2.7/site-packages/pandas/core/frame.pyc\u001b[0m in \u001b[0;36m_getitem_column\u001b[0;34m(self, key)\u001b[0m\n\u001b[1;32m   1694\u001b[0m         \u001b[0mresult\u001b[0m \u001b[0;34m=\u001b[0m \u001b[0mself\u001b[0m\u001b[0;34m.\u001b[0m\u001b[0m_constructor\u001b[0m\u001b[0;34m(\u001b[0m\u001b[0mself\u001b[0m\u001b[0;34m.\u001b[0m\u001b[0m_data\u001b[0m\u001b[0;34m.\u001b[0m\u001b[0mget\u001b[0m\u001b[0;34m(\u001b[0m\u001b[0mkey\u001b[0m\u001b[0;34m)\u001b[0m\u001b[0;34m)\u001b[0m\u001b[0;34m\u001b[0m\u001b[0m\n\u001b[1;32m   1695\u001b[0m         \u001b[0;32mif\u001b[0m \u001b[0mresult\u001b[0m\u001b[0;34m.\u001b[0m\u001b[0mcolumns\u001b[0m\u001b[0;34m.\u001b[0m\u001b[0mis_unique\u001b[0m\u001b[0;34m:\u001b[0m\u001b[0;34m\u001b[0m\u001b[0m\n\u001b[0;32m-> 1696\u001b[0;31m             \u001b[0mresult\u001b[0m \u001b[0;34m=\u001b[0m \u001b[0mresult\u001b[0m\u001b[0;34m[\u001b[0m\u001b[0mkey\u001b[0m\u001b[0;34m]\u001b[0m\u001b[0;34m\u001b[0m\u001b[0m\n\u001b[0m\u001b[1;32m   1697\u001b[0m \u001b[0;34m\u001b[0m\u001b[0m\n\u001b[1;32m   1698\u001b[0m         \u001b[0;32mreturn\u001b[0m \u001b[0mresult\u001b[0m\u001b[0;34m\u001b[0m\u001b[0m\n",
        "\u001b[0;32m/Users/Guen/anaconda/lib/python2.7/site-packages/pandas/core/frame.pyc\u001b[0m in \u001b[0;36m__getitem__\u001b[0;34m(self, key)\u001b[0m\n\u001b[1;32m   1682\u001b[0m             \u001b[0;32mreturn\u001b[0m \u001b[0mself\u001b[0m\u001b[0;34m.\u001b[0m\u001b[0m_getitem_multilevel\u001b[0m\u001b[0;34m(\u001b[0m\u001b[0mkey\u001b[0m\u001b[0;34m)\u001b[0m\u001b[0;34m\u001b[0m\u001b[0m\n\u001b[1;32m   1683\u001b[0m         \u001b[0;32melse\u001b[0m\u001b[0;34m:\u001b[0m\u001b[0;34m\u001b[0m\u001b[0m\n\u001b[0;32m-> 1684\u001b[0;31m             \u001b[0;32mreturn\u001b[0m \u001b[0mself\u001b[0m\u001b[0;34m.\u001b[0m\u001b[0m_getitem_column\u001b[0m\u001b[0;34m(\u001b[0m\u001b[0mkey\u001b[0m\u001b[0;34m)\u001b[0m\u001b[0;34m\u001b[0m\u001b[0m\n\u001b[0m\u001b[1;32m   1685\u001b[0m \u001b[0;34m\u001b[0m\u001b[0m\n\u001b[1;32m   1686\u001b[0m     \u001b[0;32mdef\u001b[0m \u001b[0m_getitem_column\u001b[0m\u001b[0;34m(\u001b[0m\u001b[0mself\u001b[0m\u001b[0;34m,\u001b[0m \u001b[0mkey\u001b[0m\u001b[0;34m)\u001b[0m\u001b[0;34m:\u001b[0m\u001b[0;34m\u001b[0m\u001b[0m\n",
        "\u001b[0;32m/Users/Guen/anaconda/lib/python2.7/site-packages/pandas/core/frame.pyc\u001b[0m in \u001b[0;36m_getitem_column\u001b[0;34m(self, key)\u001b[0m\n\u001b[1;32m   1689\u001b[0m         \u001b[0;31m# get column\u001b[0m\u001b[0;34m\u001b[0m\u001b[0;34m\u001b[0m\u001b[0m\n\u001b[1;32m   1690\u001b[0m         \u001b[0;32mif\u001b[0m \u001b[0mself\u001b[0m\u001b[0;34m.\u001b[0m\u001b[0mcolumns\u001b[0m\u001b[0;34m.\u001b[0m\u001b[0mis_unique\u001b[0m\u001b[0;34m:\u001b[0m\u001b[0;34m\u001b[0m\u001b[0m\n\u001b[0;32m-> 1691\u001b[0;31m             \u001b[0;32mreturn\u001b[0m \u001b[0mself\u001b[0m\u001b[0;34m.\u001b[0m\u001b[0m_get_item_cache\u001b[0m\u001b[0;34m(\u001b[0m\u001b[0mkey\u001b[0m\u001b[0;34m)\u001b[0m\u001b[0;34m\u001b[0m\u001b[0m\n\u001b[0m\u001b[1;32m   1692\u001b[0m \u001b[0;34m\u001b[0m\u001b[0m\n\u001b[1;32m   1693\u001b[0m         \u001b[0;31m# duplicate columns & possible reduce dimensionaility\u001b[0m\u001b[0;34m\u001b[0m\u001b[0;34m\u001b[0m\u001b[0m\n",
        "\u001b[0;32m/Users/Guen/anaconda/lib/python2.7/site-packages/pandas/core/generic.pyc\u001b[0m in \u001b[0;36m_get_item_cache\u001b[0;34m(self, item)\u001b[0m\n\u001b[1;32m   1050\u001b[0m         \u001b[0mres\u001b[0m \u001b[0;34m=\u001b[0m \u001b[0mcache\u001b[0m\u001b[0;34m.\u001b[0m\u001b[0mget\u001b[0m\u001b[0;34m(\u001b[0m\u001b[0mitem\u001b[0m\u001b[0;34m)\u001b[0m\u001b[0;34m\u001b[0m\u001b[0m\n\u001b[1;32m   1051\u001b[0m         \u001b[0;32mif\u001b[0m \u001b[0mres\u001b[0m \u001b[0;32mis\u001b[0m \u001b[0mNone\u001b[0m\u001b[0;34m:\u001b[0m\u001b[0;34m\u001b[0m\u001b[0m\n\u001b[0;32m-> 1052\u001b[0;31m             \u001b[0mvalues\u001b[0m \u001b[0;34m=\u001b[0m \u001b[0mself\u001b[0m\u001b[0;34m.\u001b[0m\u001b[0m_data\u001b[0m\u001b[0;34m.\u001b[0m\u001b[0mget\u001b[0m\u001b[0;34m(\u001b[0m\u001b[0mitem\u001b[0m\u001b[0;34m)\u001b[0m\u001b[0;34m\u001b[0m\u001b[0m\n\u001b[0m\u001b[1;32m   1053\u001b[0m             \u001b[0mres\u001b[0m \u001b[0;34m=\u001b[0m \u001b[0mself\u001b[0m\u001b[0;34m.\u001b[0m\u001b[0m_box_item_values\u001b[0m\u001b[0;34m(\u001b[0m\u001b[0mitem\u001b[0m\u001b[0;34m,\u001b[0m \u001b[0mvalues\u001b[0m\u001b[0;34m)\u001b[0m\u001b[0;34m\u001b[0m\u001b[0m\n\u001b[1;32m   1054\u001b[0m             \u001b[0mcache\u001b[0m\u001b[0;34m[\u001b[0m\u001b[0mitem\u001b[0m\u001b[0;34m]\u001b[0m \u001b[0;34m=\u001b[0m \u001b[0mres\u001b[0m\u001b[0;34m\u001b[0m\u001b[0m\n",
        "\u001b[0;32m/Users/Guen/anaconda/lib/python2.7/site-packages/pandas/core/internals.pyc\u001b[0m in \u001b[0;36mget\u001b[0;34m(self, item)\u001b[0m\n\u001b[1;32m   2535\u001b[0m \u001b[0;34m\u001b[0m\u001b[0m\n\u001b[1;32m   2536\u001b[0m             \u001b[0;32mif\u001b[0m \u001b[0;32mnot\u001b[0m \u001b[0misnull\u001b[0m\u001b[0;34m(\u001b[0m\u001b[0mitem\u001b[0m\u001b[0;34m)\u001b[0m\u001b[0;34m:\u001b[0m\u001b[0;34m\u001b[0m\u001b[0m\n\u001b[0;32m-> 2537\u001b[0;31m                 \u001b[0mloc\u001b[0m \u001b[0;34m=\u001b[0m \u001b[0mself\u001b[0m\u001b[0;34m.\u001b[0m\u001b[0mitems\u001b[0m\u001b[0;34m.\u001b[0m\u001b[0mget_loc\u001b[0m\u001b[0;34m(\u001b[0m\u001b[0mitem\u001b[0m\u001b[0;34m)\u001b[0m\u001b[0;34m\u001b[0m\u001b[0m\n\u001b[0m\u001b[1;32m   2538\u001b[0m             \u001b[0;32melse\u001b[0m\u001b[0;34m:\u001b[0m\u001b[0;34m\u001b[0m\u001b[0m\n\u001b[1;32m   2539\u001b[0m                 \u001b[0mindexer\u001b[0m \u001b[0;34m=\u001b[0m \u001b[0mnp\u001b[0m\u001b[0;34m.\u001b[0m\u001b[0marange\u001b[0m\u001b[0;34m(\u001b[0m\u001b[0mlen\u001b[0m\u001b[0;34m(\u001b[0m\u001b[0mself\u001b[0m\u001b[0;34m.\u001b[0m\u001b[0mitems\u001b[0m\u001b[0;34m)\u001b[0m\u001b[0;34m)\u001b[0m\u001b[0;34m[\u001b[0m\u001b[0misnull\u001b[0m\u001b[0;34m(\u001b[0m\u001b[0mself\u001b[0m\u001b[0;34m.\u001b[0m\u001b[0mitems\u001b[0m\u001b[0;34m)\u001b[0m\u001b[0;34m]\u001b[0m\u001b[0;34m\u001b[0m\u001b[0m\n",
        "\u001b[0;32m/Users/Guen/anaconda/lib/python2.7/site-packages/pandas/core/index.pyc\u001b[0m in \u001b[0;36mget_loc\u001b[0;34m(self, key)\u001b[0m\n\u001b[1;32m   1154\u001b[0m         \u001b[0mloc\u001b[0m \u001b[0;34m:\u001b[0m \u001b[0mint\u001b[0m \u001b[0;32mif\u001b[0m \u001b[0munique\u001b[0m \u001b[0mindex\u001b[0m\u001b[0;34m,\u001b[0m \u001b[0mpossibly\u001b[0m \u001b[0mslice\u001b[0m \u001b[0;32mor\u001b[0m \u001b[0mmask\u001b[0m \u001b[0;32mif\u001b[0m \u001b[0;32mnot\u001b[0m\u001b[0;34m\u001b[0m\u001b[0m\n\u001b[1;32m   1155\u001b[0m         \"\"\"\n\u001b[0;32m-> 1156\u001b[0;31m         \u001b[0;32mreturn\u001b[0m \u001b[0mself\u001b[0m\u001b[0;34m.\u001b[0m\u001b[0m_engine\u001b[0m\u001b[0;34m.\u001b[0m\u001b[0mget_loc\u001b[0m\u001b[0;34m(\u001b[0m\u001b[0m_values_from_object\u001b[0m\u001b[0;34m(\u001b[0m\u001b[0mkey\u001b[0m\u001b[0;34m)\u001b[0m\u001b[0;34m)\u001b[0m\u001b[0;34m\u001b[0m\u001b[0m\n\u001b[0m\u001b[1;32m   1157\u001b[0m \u001b[0;34m\u001b[0m\u001b[0m\n\u001b[1;32m   1158\u001b[0m     \u001b[0;32mdef\u001b[0m \u001b[0mget_value\u001b[0m\u001b[0;34m(\u001b[0m\u001b[0mself\u001b[0m\u001b[0;34m,\u001b[0m \u001b[0mseries\u001b[0m\u001b[0;34m,\u001b[0m \u001b[0mkey\u001b[0m\u001b[0;34m)\u001b[0m\u001b[0;34m:\u001b[0m\u001b[0;34m\u001b[0m\u001b[0m\n",
        "\u001b[0;32m/Users/Guen/anaconda/lib/python2.7/site-packages/pandas/index.so\u001b[0m in \u001b[0;36mpandas.index.IndexEngine.get_loc (pandas/index.c:3650)\u001b[0;34m()\u001b[0m\n",
        "\u001b[0;32m/Users/Guen/anaconda/lib/python2.7/site-packages/pandas/index.so\u001b[0m in \u001b[0;36mpandas.index.IndexEngine.get_loc (pandas/index.c:3528)\u001b[0;34m()\u001b[0m\n",
        "\u001b[0;32m/Users/Guen/anaconda/lib/python2.7/site-packages/pandas/hashtable.so\u001b[0m in \u001b[0;36mpandas.hashtable.PyObjectHashTable.get_item (pandas/hashtable.c:11908)\u001b[0;34m()\u001b[0m\n",
        "\u001b[0;32m/Users/Guen/anaconda/lib/python2.7/site-packages/pandas/hashtable.so\u001b[0m in \u001b[0;36mpandas.hashtable.PyObjectHashTable.get_item (pandas/hashtable.c:11861)\u001b[0;34m()\u001b[0m\n",
        "\u001b[0;31mKeyError\u001b[0m: 'id'"
       ]
      }
     ],
     "prompt_number": 393
    },
    {
     "cell_type": "code",
     "collapsed": false,
     "input": [
      "index_cols = []\n",
      "myage = 28\n",
      "refs = [data.poi.max(), data.cars.mean(), data.bikes.mean(), myage, data.parking.mean(), data.male_singles.mean(), data.female_singles.mean()]\n",
      "weights = [10, 10, 10, 1, 0.1 , 11, 11]\n",
      "data['index'] = ((weights[0] * 0.1 * abs(data['poi']-refs[0])/refs[0]) + (weights[1] * 0.1 * (data['cars']-refs[1])/refs[1]) + (weights[2] * 0.1 * (data['bikes']-refs[2])/refs[2]) + (weights[3] * 0.1 * (data['ages']-refs[3])/refs[3]) + (weights[4] * 0.1 * (data['parking']-refs[4])/refs[4]))\n",
      "data.index = 10.0*data.index/data.index.max()"
     ],
     "language": "python",
     "metadata": {},
     "outputs": []
    },
    {
     "cell_type": "code",
     "collapsed": false,
     "input": [
      "data.describe()"
     ],
     "language": "python",
     "metadata": {},
     "outputs": []
    },
    {
     "cell_type": "code",
     "collapsed": false,
     "input": [
      "cph_location = [55.6181, 12.6561]\n",
      "geo_path = 'data/taxzone.json' #json file with map\n",
      "outfile = 'cph.html'\n",
      "map = folium.Map(location=cph_location, zoom_start=12, tiles='Stamen Toner',width=1300, height =1300)\n",
      "map.geo_json(threshold_scale=[0,1,5, 10, 15], geo_path=geo_path, data_out ='test.json', data=data,\n",
      "             columns=['id', 'male_singles'],\n",
      "             key_on='feature.properties.id',\n",
      "             fill_color='YlGnBu', fill_opacity=0.8, line_opacity=0.3,\n",
      "             legend_name='index of awesomeness')\n",
      "map.create_map(path=outfile)"
     ],
     "language": "python",
     "metadata": {},
     "outputs": [],
     "prompt_number": 246
    },
    {
     "cell_type": "code",
     "collapsed": false,
     "input": [
      "!git pull"
     ],
     "language": "python",
     "metadata": {},
     "outputs": [
      {
       "output_type": "stream",
       "stream": "stdout",
       "text": [
        "Already up-to-date.\r\n"
       ]
      }
     ],
     "prompt_number": 49
    },
    {
     "cell_type": "code",
     "collapsed": false,
     "input": [
      "!git add vis.ipynb\n",
      "!git commit -am 'final protype before leaving'\n",
      "!git push origin master"
     ],
     "language": "python",
     "metadata": {},
     "outputs": [
      {
       "output_type": "stream",
       "stream": "stdout",
       "text": [
        "[master 4447b8f] final protype before leaving\r\n",
        " 3 files changed, 273 insertions(+), 733 deletions(-)\r\n"
       ]
      },
      {
       "output_type": "stream",
       "stream": "stdout",
       "text": [
        "Counting objects: 5, done.\r\n",
        "Delta compression using up to 8 threads.\r\n",
        "Compressing objects:  20% (1/5)   \r",
        "Compressing objects:  40% (2/5)   \r",
        "Compressing objects:  60% (3/5)   \r",
        "Compressing objects:  80% (4/5)   \r",
        "Compressing objects: 100% (5/5)   \r",
        "Compressing objects: 100% (5/5), done.\r\n",
        "Writing objects:  20% (1/5)   \r",
        "Writing objects:  40% (2/5)   \r",
        "Writing objects:  60% (3/5)   \r"
       ]
      },
      {
       "output_type": "stream",
       "stream": "stdout",
       "text": [
        "Writing objects:  80% (4/5)   \r",
        "Writing objects: 100% (5/5)   \r",
        "Writing objects: 100% (5/5), 2.79 KiB | 0 bytes/s, done.\r\n",
        "Total 5 (delta 4), reused 0 (delta 0)\r\n"
       ]
      },
      {
       "output_type": "stream",
       "stream": "stdout",
       "text": [
        "To git@github.com:giulioungaretti/opendatahacklab2014.git\r\n",
        "   df9a237..4447b8f  master -> master\r\n"
       ]
      }
     ],
     "prompt_number": 48
    },
    {
     "cell_type": "code",
     "collapsed": false,
     "input": [
      "np.linspace(1,10,6)"
     ],
     "language": "python",
     "metadata": {},
     "outputs": []
    },
    {
     "cell_type": "heading",
     "level": 1,
     "metadata": {},
     "source": [
      "Converting stuff"
     ]
    },
    {
     "cell_type": "code",
     "collapsed": false,
     "input": [
      "polygons_shape = [shape(feature['geometry']) for feature in js['features']]\n",
      "names = [feature['properties']['id'] for feature in js['features']]\n",
      "map_df =  pd.DataFrame({'poly':polygons_shape,'id':names})\n",
      "map_df['counts'] = map_df.apply(do,axis=1)"
     ],
     "language": "python",
     "metadata": {},
     "outputs": [],
     "prompt_number": 345
    },
    {
     "cell_type": "code",
     "collapsed": false,
     "input": [
      "map_dfs = [map_df]\n",
      "\n",
      "for m in np.arange(0,len(datasets)):\n",
      "    dataset = datasets[m]\n",
      "    colname = colnames[m]\n",
      "    res = {}\n",
      "    for polygon in map_df.poly:\n",
      "        counts = 0\n",
      "        for point in dataset.points:\n",
      "            if polygon.contains(point):\n",
      "                counts += int(dataset['count'][dataset.points==point])\n",
      "        res[polygon] = counts\n",
      "    map_df_dataset = pd.DataFrame({'poly':res.keys(),'id':names,'counts':res.values()})\n",
      "    map_dfs.append(map_df_dataset)"
     ],
     "language": "python",
     "metadata": {},
     "outputs": [],
     "prompt_number": 346
    },
    {
     "cell_type": "code",
     "collapsed": false,
     "input": [
      "for (colname, map_df) in zip(colnames, map_dfs):\n",
      "    toJson(colname, map_df)"
     ],
     "language": "python",
     "metadata": {},
     "outputs": [],
     "prompt_number": 395
    },
    {
     "cell_type": "code",
     "collapsed": false,
     "input": [
      "colnames"
     ],
     "language": "python",
     "metadata": {},
     "outputs": [
      {
       "metadata": {},
       "output_type": "pyout",
       "prompt_number": 396,
       "text": [
        "['poi',\n",
        " 'cars',\n",
        " 'bikes',\n",
        " 'ages',\n",
        " 'parking',\n",
        " 'male_singles',\n",
        " 'female_singles',\n",
        " 'digging']"
       ]
      }
     ],
     "prompt_number": 396
    },
    {
     "cell_type": "code",
     "collapsed": false,
     "input": [
      "map_dfs[2]"
     ],
     "language": "python",
     "metadata": {},
     "outputs": [
      {
       "html": [
        "<div style=\"max-height:1000px;max-width:1500px;overflow:auto;\">\n",
        "<table border=\"1\" class=\"dataframe\">\n",
        "  <thead>\n",
        "    <tr style=\"text-align: right;\">\n",
        "      <th></th>\n",
        "      <th>counts</th>\n",
        "      <th>id</th>\n",
        "      <th>poly</th>\n",
        "    </tr>\n",
        "  </thead>\n",
        "  <tbody>\n",
        "    <tr>\n",
        "      <th>0  </th>\n",
        "      <td>  6400</td>\n",
        "      <td>   7</td>\n",
        "      <td> POLYGON ((12.47428321450642 55.67276925799344,...</td>\n",
        "    </tr>\n",
        "    <tr>\n",
        "      <th>1  </th>\n",
        "      <td>     0</td>\n",
        "      <td>   8</td>\n",
        "      <td> POLYGON ((12.47810888205169 55.66196149999346,...</td>\n",
        "    </tr>\n",
        "    <tr>\n",
        "      <th>2  </th>\n",
        "      <td>     0</td>\n",
        "      <td>   9</td>\n",
        "      <td> POLYGON ((12.519010445652 55.65016620439641, 1...</td>\n",
        "    </tr>\n",
        "    <tr>\n",
        "      <th>3  </th>\n",
        "      <td>   500</td>\n",
        "      <td>  10</td>\n",
        "      <td> POLYGON ((12.61700717387728 55.64040413659284,...</td>\n",
        "    </tr>\n",
        "    <tr>\n",
        "      <th>4  </th>\n",
        "      <td>   100</td>\n",
        "      <td>  11</td>\n",
        "      <td> POLYGON ((12.52333388662287 55.64565299211146,...</td>\n",
        "    </tr>\n",
        "    <tr>\n",
        "      <th>5  </th>\n",
        "      <td>     0</td>\n",
        "      <td>  12</td>\n",
        "      <td> POLYGON ((12.53054159021687 55.64315183171827,...</td>\n",
        "    </tr>\n",
        "    <tr>\n",
        "      <th>6  </th>\n",
        "      <td>  7400</td>\n",
        "      <td>  13</td>\n",
        "      <td> POLYGON ((12.58392386402441 55.66433949676963,...</td>\n",
        "    </tr>\n",
        "    <tr>\n",
        "      <th>7  </th>\n",
        "      <td>  1300</td>\n",
        "      <td>  14</td>\n",
        "      <td> POLYGON ((12.5851251951871 55.63797869213252, ...</td>\n",
        "    </tr>\n",
        "    <tr>\n",
        "      <th>8  </th>\n",
        "      <td>  1500</td>\n",
        "      <td>  26</td>\n",
        "      <td> POLYGON ((12.53331330901481 55.64940854712486,...</td>\n",
        "    </tr>\n",
        "    <tr>\n",
        "      <th>9  </th>\n",
        "      <td>     0</td>\n",
        "      <td>  27</td>\n",
        "      <td> POLYGON ((12.59398744061854 55.66300403559281,...</td>\n",
        "    </tr>\n",
        "    <tr>\n",
        "      <th>10 </th>\n",
        "      <td>  8800</td>\n",
        "      <td>  28</td>\n",
        "      <td> POLYGON ((12.5940978369175 55.65529561972883, ...</td>\n",
        "    </tr>\n",
        "    <tr>\n",
        "      <th>11 </th>\n",
        "      <td>     0</td>\n",
        "      <td>  29</td>\n",
        "      <td> POLYGON ((12.6354794676627 55.66332980653079, ...</td>\n",
        "    </tr>\n",
        "    <tr>\n",
        "      <th>12 </th>\n",
        "      <td>     0</td>\n",
        "      <td>  30</td>\n",
        "      <td> POLYGON ((12.59709280633333 55.66161446686291,...</td>\n",
        "    </tr>\n",
        "    <tr>\n",
        "      <th>13 </th>\n",
        "      <td>     0</td>\n",
        "      <td>  31</td>\n",
        "      <td> POLYGON ((12.54738537465587 55.66712828135429,...</td>\n",
        "    </tr>\n",
        "    <tr>\n",
        "      <th>14 </th>\n",
        "      <td>     0</td>\n",
        "      <td>  32</td>\n",
        "      <td> POLYGON ((12.5394047814916 55.67020877610177, ...</td>\n",
        "    </tr>\n",
        "    <tr>\n",
        "      <th>15 </th>\n",
        "      <td>  1500</td>\n",
        "      <td>  33</td>\n",
        "      <td> POLYGON ((12.55139619403258 55.64134647910861,...</td>\n",
        "    </tr>\n",
        "    <tr>\n",
        "      <th>16 </th>\n",
        "      <td>     0</td>\n",
        "      <td> 185</td>\n",
        "      <td> POLYGON ((12.55097768503912 55.66984591336745,...</td>\n",
        "    </tr>\n",
        "    <tr>\n",
        "      <th>17 </th>\n",
        "      <td>     0</td>\n",
        "      <td>  34</td>\n",
        "      <td> POLYGON ((12.60033654598007 55.65939509902091,...</td>\n",
        "    </tr>\n",
        "    <tr>\n",
        "      <th>18 </th>\n",
        "      <td>     0</td>\n",
        "      <td>  35</td>\n",
        "      <td> POLYGON ((12.59595595934263 55.65495609075542,...</td>\n",
        "    </tr>\n",
        "    <tr>\n",
        "      <th>19 </th>\n",
        "      <td>  6300</td>\n",
        "      <td>  36</td>\n",
        "      <td> POLYGON ((12.5166195235852 55.65202782675665, ...</td>\n",
        "    </tr>\n",
        "    <tr>\n",
        "      <th>20 </th>\n",
        "      <td>     0</td>\n",
        "      <td>  37</td>\n",
        "      <td> POLYGON ((12.5358419520645 55.66062575200921, ...</td>\n",
        "    </tr>\n",
        "    <tr>\n",
        "      <th>21 </th>\n",
        "      <td>  3200</td>\n",
        "      <td>  38</td>\n",
        "      <td> POLYGON ((12.54171927415506 55.66300477273452,...</td>\n",
        "    </tr>\n",
        "    <tr>\n",
        "      <th>22 </th>\n",
        "      <td> 10700</td>\n",
        "      <td>  39</td>\n",
        "      <td> POLYGON ((12.57666663031066 55.64094378708999,...</td>\n",
        "    </tr>\n",
        "    <tr>\n",
        "      <th>23 </th>\n",
        "      <td>     0</td>\n",
        "      <td>  40</td>\n",
        "      <td> POLYGON ((12.55001164082825 55.6682096988484, ...</td>\n",
        "    </tr>\n",
        "    <tr>\n",
        "      <th>24 </th>\n",
        "      <td>  8500</td>\n",
        "      <td>  41</td>\n",
        "      <td> POLYGON ((12.53753367283524 55.65530945934245,...</td>\n",
        "    </tr>\n",
        "    <tr>\n",
        "      <th>25 </th>\n",
        "      <td>  2200</td>\n",
        "      <td>  42</td>\n",
        "      <td> POLYGON ((12.53997086518574 55.66907931025513,...</td>\n",
        "    </tr>\n",
        "    <tr>\n",
        "      <th>26 </th>\n",
        "      <td>     0</td>\n",
        "      <td>  43</td>\n",
        "      <td> POLYGON ((12.48546103445169 55.71084267563525,...</td>\n",
        "    </tr>\n",
        "    <tr>\n",
        "      <th>27 </th>\n",
        "      <td>  9100</td>\n",
        "      <td>  44</td>\n",
        "      <td> POLYGON ((12.5166195235852 55.65202782675665, ...</td>\n",
        "    </tr>\n",
        "    <tr>\n",
        "      <th>28 </th>\n",
        "      <td>     0</td>\n",
        "      <td>  45</td>\n",
        "      <td> POLYGON ((12.51628677123852 55.66346942502003,...</td>\n",
        "    </tr>\n",
        "    <tr>\n",
        "      <th>29 </th>\n",
        "      <td>  3300</td>\n",
        "      <td>  46</td>\n",
        "      <td> POLYGON ((12.53730935232917 55.66299861638564,...</td>\n",
        "    </tr>\n",
        "    <tr>\n",
        "      <th>...</th>\n",
        "      <td>...</td>\n",
        "      <td>...</td>\n",
        "      <td>...</td>\n",
        "    </tr>\n",
        "    <tr>\n",
        "      <th>366</th>\n",
        "      <td> 18700</td>\n",
        "      <td> 386</td>\n",
        "      <td> POLYGON ((12.57343399152272 55.68415844931599,...</td>\n",
        "    </tr>\n",
        "    <tr>\n",
        "      <th>367</th>\n",
        "      <td>     0</td>\n",
        "      <td> 387</td>\n",
        "      <td> POLYGON ((12.61659129460659 55.65108945018208,...</td>\n",
        "    </tr>\n",
        "    <tr>\n",
        "      <th>368</th>\n",
        "      <td>   600</td>\n",
        "      <td> 388</td>\n",
        "      <td> POLYGON ((12.57150689589033 55.68291621894384,...</td>\n",
        "    </tr>\n",
        "    <tr>\n",
        "      <th>369</th>\n",
        "      <td>  1800</td>\n",
        "      <td> 389</td>\n",
        "      <td> POLYGON ((12.57335574518532 55.67882712707461,...</td>\n",
        "    </tr>\n",
        "    <tr>\n",
        "      <th>370</th>\n",
        "      <td>     0</td>\n",
        "      <td> 390</td>\n",
        "      <td> POLYGON ((12.59602016129996 55.67551589553258,...</td>\n",
        "    </tr>\n",
        "    <tr>\n",
        "      <th>371</th>\n",
        "      <td>  1000</td>\n",
        "      <td> 391</td>\n",
        "      <td> POLYGON ((12.58860674033919 55.68231612420054,...</td>\n",
        "    </tr>\n",
        "    <tr>\n",
        "      <th>372</th>\n",
        "      <td>     0</td>\n",
        "      <td> 357</td>\n",
        "      <td> POLYGON ((12.61425963063634 55.6821548648686, ...</td>\n",
        "    </tr>\n",
        "    <tr>\n",
        "      <th>373</th>\n",
        "      <td>     0</td>\n",
        "      <td> 358</td>\n",
        "      <td> POLYGON ((12.59757061638263 55.68575418201783,...</td>\n",
        "    </tr>\n",
        "    <tr>\n",
        "      <th>374</th>\n",
        "      <td>     0</td>\n",
        "      <td> 359</td>\n",
        "      <td> POLYGON ((12.58305236042527 55.68780047958257,...</td>\n",
        "    </tr>\n",
        "    <tr>\n",
        "      <th>375</th>\n",
        "      <td>  2600</td>\n",
        "      <td> 360</td>\n",
        "      <td> POLYGON ((12.5752149933548 55.68142102122098, ...</td>\n",
        "    </tr>\n",
        "    <tr>\n",
        "      <th>376</th>\n",
        "      <td>     0</td>\n",
        "      <td> 361</td>\n",
        "      <td> POLYGON ((12.58469118780467 55.68735771692231,...</td>\n",
        "    </tr>\n",
        "    <tr>\n",
        "      <th>377</th>\n",
        "      <td>  1800</td>\n",
        "      <td> 362</td>\n",
        "      <td> POLYGON ((12.58458937557012 55.68959346873826,...</td>\n",
        "    </tr>\n",
        "    <tr>\n",
        "      <th>378</th>\n",
        "      <td>  1800</td>\n",
        "      <td> 363</td>\n",
        "      <td> POLYGON ((12.58926893550963 55.68612079932369,...</td>\n",
        "    </tr>\n",
        "    <tr>\n",
        "      <th>379</th>\n",
        "      <td>   200</td>\n",
        "      <td> 364</td>\n",
        "      <td> POLYGON ((12.57077138170759 55.68244206545556,...</td>\n",
        "    </tr>\n",
        "    <tr>\n",
        "      <th>380</th>\n",
        "      <td>  5700</td>\n",
        "      <td> 365</td>\n",
        "      <td> POLYGON ((12.57160718043538 55.69070885157863,...</td>\n",
        "    </tr>\n",
        "    <tr>\n",
        "      <th>381</th>\n",
        "      <td>  3700</td>\n",
        "      <td> 366</td>\n",
        "      <td> POLYGON ((12.58490556052964 55.68094553600795,...</td>\n",
        "    </tr>\n",
        "    <tr>\n",
        "      <th>382</th>\n",
        "      <td>     0</td>\n",
        "      <td> 367</td>\n",
        "      <td> POLYGON ((12.61249407246193 55.65035545407413,...</td>\n",
        "    </tr>\n",
        "    <tr>\n",
        "      <th>383</th>\n",
        "      <td> 15600</td>\n",
        "      <td> 368</td>\n",
        "      <td> POLYGON ((12.5743946153813 55.68941870885934, ...</td>\n",
        "    </tr>\n",
        "    <tr>\n",
        "      <th>384</th>\n",
        "      <td>  5500</td>\n",
        "      <td> 369</td>\n",
        "      <td> POLYGON ((12.58324998268894 55.72091904954607,...</td>\n",
        "    </tr>\n",
        "    <tr>\n",
        "      <th>385</th>\n",
        "      <td> 12000</td>\n",
        "      <td> 370</td>\n",
        "      <td> POLYGON ((12.55636632884704 55.70774576129093,...</td>\n",
        "    </tr>\n",
        "    <tr>\n",
        "      <th>386</th>\n",
        "      <td>  5700</td>\n",
        "      <td> 371</td>\n",
        "      <td> POLYGON ((12.58613936116936 55.69931858280786,...</td>\n",
        "    </tr>\n",
        "    <tr>\n",
        "      <th>387</th>\n",
        "      <td> 30700</td>\n",
        "      <td> 372</td>\n",
        "      <td> POLYGON ((12.53209247667266 55.70643055695054,...</td>\n",
        "    </tr>\n",
        "    <tr>\n",
        "      <th>388</th>\n",
        "      <td> 11200</td>\n",
        "      <td> 373</td>\n",
        "      <td> POLYGON ((12.56152079340827 55.69636095350336,...</td>\n",
        "    </tr>\n",
        "    <tr>\n",
        "      <th>389</th>\n",
        "      <td> 26800</td>\n",
        "      <td> 374</td>\n",
        "      <td> POLYGON ((12.57675821401861 55.67016076598612,...</td>\n",
        "    </tr>\n",
        "    <tr>\n",
        "      <th>390</th>\n",
        "      <td>     0</td>\n",
        "      <td> 375</td>\n",
        "      <td> POLYGON ((12.61124508508614 55.65315970948049,...</td>\n",
        "    </tr>\n",
        "    <tr>\n",
        "      <th>391</th>\n",
        "      <td>     0</td>\n",
        "      <td> 376</td>\n",
        "      <td> POLYGON ((12.56035167336086 55.6810883158955, ...</td>\n",
        "    </tr>\n",
        "    <tr>\n",
        "      <th>392</th>\n",
        "      <td>  2100</td>\n",
        "      <td> 377</td>\n",
        "      <td> POLYGON ((12.56253673556362 55.72806520879553,...</td>\n",
        "    </tr>\n",
        "    <tr>\n",
        "      <th>393</th>\n",
        "      <td> 10400</td>\n",
        "      <td> 378</td>\n",
        "      <td> POLYGON ((12.57659693272841 55.69189796008531,...</td>\n",
        "    </tr>\n",
        "    <tr>\n",
        "      <th>394</th>\n",
        "      <td>     0</td>\n",
        "      <td> 257</td>\n",
        "      <td> POLYGON ((12.57464929089853 55.69265074516338,...</td>\n",
        "    </tr>\n",
        "    <tr>\n",
        "      <th>395</th>\n",
        "      <td>     0</td>\n",
        "      <td> 241</td>\n",
        "      <td> POLYGON ((12.56135479156756 55.72274416442943,...</td>\n",
        "    </tr>\n",
        "  </tbody>\n",
        "</table>\n",
        "<p>396 rows \u00d7 3 columns</p>\n",
        "</div>"
       ],
       "metadata": {},
       "output_type": "pyout",
       "prompt_number": 400,
       "text": [
        "     counts   id                                               poly\n",
        "0      6400    7  POLYGON ((12.47428321450642 55.67276925799344,...\n",
        "1         0    8  POLYGON ((12.47810888205169 55.66196149999346,...\n",
        "2         0    9  POLYGON ((12.519010445652 55.65016620439641, 1...\n",
        "3       500   10  POLYGON ((12.61700717387728 55.64040413659284,...\n",
        "4       100   11  POLYGON ((12.52333388662287 55.64565299211146,...\n",
        "5         0   12  POLYGON ((12.53054159021687 55.64315183171827,...\n",
        "6      7400   13  POLYGON ((12.58392386402441 55.66433949676963,...\n",
        "7      1300   14  POLYGON ((12.5851251951871 55.63797869213252, ...\n",
        "8      1500   26  POLYGON ((12.53331330901481 55.64940854712486,...\n",
        "9         0   27  POLYGON ((12.59398744061854 55.66300403559281,...\n",
        "10     8800   28  POLYGON ((12.5940978369175 55.65529561972883, ...\n",
        "11        0   29  POLYGON ((12.6354794676627 55.66332980653079, ...\n",
        "12        0   30  POLYGON ((12.59709280633333 55.66161446686291,...\n",
        "13        0   31  POLYGON ((12.54738537465587 55.66712828135429,...\n",
        "14        0   32  POLYGON ((12.5394047814916 55.67020877610177, ...\n",
        "15     1500   33  POLYGON ((12.55139619403258 55.64134647910861,...\n",
        "16        0  185  POLYGON ((12.55097768503912 55.66984591336745,...\n",
        "17        0   34  POLYGON ((12.60033654598007 55.65939509902091,...\n",
        "18        0   35  POLYGON ((12.59595595934263 55.65495609075542,...\n",
        "19     6300   36  POLYGON ((12.5166195235852 55.65202782675665, ...\n",
        "20        0   37  POLYGON ((12.5358419520645 55.66062575200921, ...\n",
        "21     3200   38  POLYGON ((12.54171927415506 55.66300477273452,...\n",
        "22    10700   39  POLYGON ((12.57666663031066 55.64094378708999,...\n",
        "23        0   40  POLYGON ((12.55001164082825 55.6682096988484, ...\n",
        "24     8500   41  POLYGON ((12.53753367283524 55.65530945934245,...\n",
        "25     2200   42  POLYGON ((12.53997086518574 55.66907931025513,...\n",
        "26        0   43  POLYGON ((12.48546103445169 55.71084267563525,...\n",
        "27     9100   44  POLYGON ((12.5166195235852 55.65202782675665, ...\n",
        "28        0   45  POLYGON ((12.51628677123852 55.66346942502003,...\n",
        "29     3300   46  POLYGON ((12.53730935232917 55.66299861638564,...\n",
        "..      ...  ...                                                ...\n",
        "366   18700  386  POLYGON ((12.57343399152272 55.68415844931599,...\n",
        "367       0  387  POLYGON ((12.61659129460659 55.65108945018208,...\n",
        "368     600  388  POLYGON ((12.57150689589033 55.68291621894384,...\n",
        "369    1800  389  POLYGON ((12.57335574518532 55.67882712707461,...\n",
        "370       0  390  POLYGON ((12.59602016129996 55.67551589553258,...\n",
        "371    1000  391  POLYGON ((12.58860674033919 55.68231612420054,...\n",
        "372       0  357  POLYGON ((12.61425963063634 55.6821548648686, ...\n",
        "373       0  358  POLYGON ((12.59757061638263 55.68575418201783,...\n",
        "374       0  359  POLYGON ((12.58305236042527 55.68780047958257,...\n",
        "375    2600  360  POLYGON ((12.5752149933548 55.68142102122098, ...\n",
        "376       0  361  POLYGON ((12.58469118780467 55.68735771692231,...\n",
        "377    1800  362  POLYGON ((12.58458937557012 55.68959346873826,...\n",
        "378    1800  363  POLYGON ((12.58926893550963 55.68612079932369,...\n",
        "379     200  364  POLYGON ((12.57077138170759 55.68244206545556,...\n",
        "380    5700  365  POLYGON ((12.57160718043538 55.69070885157863,...\n",
        "381    3700  366  POLYGON ((12.58490556052964 55.68094553600795,...\n",
        "382       0  367  POLYGON ((12.61249407246193 55.65035545407413,...\n",
        "383   15600  368  POLYGON ((12.5743946153813 55.68941870885934, ...\n",
        "384    5500  369  POLYGON ((12.58324998268894 55.72091904954607,...\n",
        "385   12000  370  POLYGON ((12.55636632884704 55.70774576129093,...\n",
        "386    5700  371  POLYGON ((12.58613936116936 55.69931858280786,...\n",
        "387   30700  372  POLYGON ((12.53209247667266 55.70643055695054,...\n",
        "388   11200  373  POLYGON ((12.56152079340827 55.69636095350336,...\n",
        "389   26800  374  POLYGON ((12.57675821401861 55.67016076598612,...\n",
        "390       0  375  POLYGON ((12.61124508508614 55.65315970948049,...\n",
        "391       0  376  POLYGON ((12.56035167336086 55.6810883158955, ...\n",
        "392    2100  377  POLYGON ((12.56253673556362 55.72806520879553,...\n",
        "393   10400  378  POLYGON ((12.57659693272841 55.69189796008531,...\n",
        "394       0  257  POLYGON ((12.57464929089853 55.69265074516338,...\n",
        "395       0  241  POLYGON ((12.56135479156756 55.72274416442943,...\n",
        "\n",
        "[396 rows x 3 columns]"
       ]
      }
     ],
     "prompt_number": 400
    },
    {
     "cell_type": "code",
     "collapsed": false,
     "input": [
      "for colname in colnames:\n",
      "    print '<option value=\"' + colname + '\">\"' + colname + '\"</option>'"
     ],
     "language": "python",
     "metadata": {},
     "outputs": [
      {
       "output_type": "stream",
       "stream": "stdout",
       "text": [
        "<option value=\"poi\">\"poi\"</option>\n",
        "<option value=\"cars\">\"cars\"</option>\n",
        "<option value=\"bikes\">\"bikes\"</option>\n",
        "<option value=\"ages\">\"ages\"</option>\n",
        "<option value=\"parking\">\"parking\"</option>\n",
        "<option value=\"male_singles\">\"male_singles\"</option>\n",
        "<option value=\"female_singles\">\"female_singles\"</option>\n",
        "<option value=\"digging\">\"digging\"</option>\n"
       ]
      }
     ],
     "prompt_number": 269
    },
    {
     "cell_type": "code",
     "collapsed": false,
     "input": [],
     "language": "python",
     "metadata": {},
     "outputs": []
    }
   ],
   "metadata": {}
  }
 ]
}