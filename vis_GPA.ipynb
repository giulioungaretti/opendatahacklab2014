{
 "metadata": {
  "name": "",
  "signature": "sha256:7f0e8aaa8c7f8a571a0e7077d902ae58fcf4a4a191e37634350889e29fe6ee11"
 },
 "nbformat": 3,
 "nbformat_minor": 0,
 "worksheets": [
  {
   "cells": [
    {
     "cell_type": "code",
     "collapsed": true,
     "input": [
      "# %load_ext vimception\n",
      "import numpy as np\n",
      "import pandas as pd "
     ],
     "language": "python",
     "metadata": {},
     "outputs": [],
     "prompt_number": 1
    },
    {
     "cell_type": "code",
     "collapsed": false,
     "input": [
      "'''\n",
      "munges the pois of Copenhagen such a museums and churches and parks and so on\n",
      "'''\n",
      "\n",
      "import folium\n",
      "import json\n",
      "import pandas as pd\n",
      "# import geohash\n",
      "import time\n",
      "from shapely.geometry import shape, Point, Polygon\n",
      "from shapely.prepared import prep # speed up\n",
      "\n",
      "\n",
      "df = pd.DataFrame.from_csv('data/stednavn_flade.csv')\n",
      "# Polygon(\n",
      "\n",
      "def poligonify(row):\n",
      "    a = row.wkb_geometry\n",
      "    try:\n",
      "        c =  np.array( [float(i.rstrip(',')) for i in a[10:].translate(None, '()').split(' ')])\n",
      "        c = c.reshape(c.shape[0]/2, c.shape[0]/(c.shape[0]/2))\n",
      "        Polygon(c)\n",
      "    except:\n",
      "        print 'error'\n",
      "    return Polygon(c)"
     ],
     "language": "python",
     "metadata": {},
     "outputs": [],
     "prompt_number": 2
    },
    {
     "cell_type": "code",
     "collapsed": false,
     "input": [
      "df['poly']  = df.apply(poligonify, axis=1)"
     ],
     "language": "python",
     "metadata": {},
     "outputs": [],
     "prompt_number": 3
    },
    {
     "cell_type": "code",
     "collapsed": false,
     "input": [
      "df['centroids'] = df.apply(lambda row: Point(row.poly.centroid), axis=1)"
     ],
     "language": "python",
     "metadata": {},
     "outputs": [],
     "prompt_number": 4
    },
    {
     "cell_type": "code",
     "collapsed": false,
     "input": [
      "map_df_trafic = pd.DataFrame({'poly':res.keys(),'counts':res.values()})"
     ],
     "language": "python",
     "metadata": {},
     "outputs": [
      {
       "ename": "NameError",
       "evalue": "name 'res' is not defined",
       "output_type": "pyerr",
       "traceback": [
        "\u001b[0;31m---------------------------------------------------------------------------\u001b[0m\n\u001b[0;31mNameError\u001b[0m                                 Traceback (most recent call last)",
        "\u001b[0;32m<ipython-input-5-31411dd2e052>\u001b[0m in \u001b[0;36m<module>\u001b[0;34m()\u001b[0m\n\u001b[0;32m----> 1\u001b[0;31m \u001b[0mmap_df_trafic\u001b[0m \u001b[0;34m=\u001b[0m \u001b[0mpd\u001b[0m\u001b[0;34m.\u001b[0m\u001b[0mDataFrame\u001b[0m\u001b[0;34m(\u001b[0m\u001b[0;34m{\u001b[0m\u001b[0;34m'poly'\u001b[0m\u001b[0;34m:\u001b[0m\u001b[0mres\u001b[0m\u001b[0;34m.\u001b[0m\u001b[0mkeys\u001b[0m\u001b[0;34m(\u001b[0m\u001b[0;34m)\u001b[0m\u001b[0;34m,\u001b[0m\u001b[0;34m'counts'\u001b[0m\u001b[0;34m:\u001b[0m\u001b[0mres\u001b[0m\u001b[0;34m.\u001b[0m\u001b[0mvalues\u001b[0m\u001b[0;34m(\u001b[0m\u001b[0;34m)\u001b[0m\u001b[0;34m}\u001b[0m\u001b[0;34m)\u001b[0m\u001b[0;34m\u001b[0m\u001b[0m\n\u001b[0m",
        "\u001b[0;31mNameError\u001b[0m: name 'res' is not defined"
       ]
      }
     ],
     "prompt_number": 5
    },
    {
     "cell_type": "code",
     "collapsed": false,
     "input": [
      "map_df['poicounts'] = map_df.apply(do,axis=1)"
     ],
     "language": "python",
     "metadata": {},
     "outputs": [
      {
       "ename": "NameError",
       "evalue": "name 'map_df' is not defined",
       "output_type": "pyerr",
       "traceback": [
        "\u001b[0;31m---------------------------------------------------------------------------\u001b[0m\n\u001b[0;31mNameError\u001b[0m                                 Traceback (most recent call last)",
        "\u001b[0;32m<ipython-input-6-250c97151b1e>\u001b[0m in \u001b[0;36m<module>\u001b[0;34m()\u001b[0m\n\u001b[0;32m----> 1\u001b[0;31m \u001b[0mmap_df\u001b[0m\u001b[0;34m[\u001b[0m\u001b[0;34m'poicounts'\u001b[0m\u001b[0;34m]\u001b[0m \u001b[0;34m=\u001b[0m \u001b[0mmap_df\u001b[0m\u001b[0;34m.\u001b[0m\u001b[0mapply\u001b[0m\u001b[0;34m(\u001b[0m\u001b[0mdo\u001b[0m\u001b[0;34m,\u001b[0m\u001b[0maxis\u001b[0m\u001b[0;34m=\u001b[0m\u001b[0;36m1\u001b[0m\u001b[0;34m)\u001b[0m\u001b[0;34m\u001b[0m\u001b[0m\n\u001b[0m",
        "\u001b[0;31mNameError\u001b[0m: name 'map_df' is not defined"
       ]
      }
     ],
     "prompt_number": 6
    },
    {
     "cell_type": "markdown",
     "metadata": {},
     "source": [
      "Guen traffic data"
     ]
    },
    {
     "cell_type": "code",
     "collapsed": false,
     "input": [
      "cars = pd.io.json.read_json('data/trafiktal.json')\n",
      "cars['points'] = cars.apply(lambda row: Point(row.coords), axis=1)"
     ],
     "language": "python",
     "metadata": {},
     "outputs": [],
     "prompt_number": 7
    },
    {
     "cell_type": "code",
     "collapsed": false,
     "input": [
      "bikes = pd.io.json.read_json('data/cykler.json')\n",
      "bikes['points'] = bikes.apply(lambda row: Point(row.coords), axis=1)"
     ],
     "language": "python",
     "metadata": {},
     "outputs": [],
     "prompt_number": 8
    },
    {
     "cell_type": "code",
     "collapsed": false,
     "input": [
      "ages = pd.io.json.read_json('data/average_age.json')\n",
      "ages['points'] = ages.apply(lambda row: Point(row.coords), axis=1)"
     ],
     "language": "python",
     "metadata": {},
     "outputs": [],
     "prompt_number": 9
    },
    {
     "cell_type": "code",
     "collapsed": false,
     "input": [
      "parking = pd.io.json.read_json('data/parkingdata.json')\n",
      "parking['points'] = parking.apply(lambda row: Point(row.coords), axis=1)"
     ],
     "language": "python",
     "metadata": {},
     "outputs": [],
     "prompt_number": 10
    },
    {
     "cell_type": "code",
     "collapsed": false,
     "input": [
      "male_singles = pd.io.json.read_json('data/male_singles.json')\n",
      "male_singles['points'] = male_singles.apply(lambda row: Point(row.coords), axis=1)"
     ],
     "language": "python",
     "metadata": {},
     "outputs": [],
     "prompt_number": 11
    },
    {
     "cell_type": "code",
     "collapsed": false,
     "input": [
      "female_singles = pd.io.json.read_json('data/female_singles.json')\n",
      "female_singles['points'] = female_singles.apply(lambda row: Point(row.coords), axis=1)"
     ],
     "language": "python",
     "metadata": {},
     "outputs": [],
     "prompt_number": 12
    },
    {
     "cell_type": "code",
     "collapsed": false,
     "input": [
      "digging = pd.io.json.read_json('data/digging.json')\n",
      "digging['points'] = digging.apply(lambda row: Point(row.coords), axis=1)"
     ],
     "language": "python",
     "metadata": {},
     "outputs": [],
     "prompt_number": 13
    },
    {
     "cell_type": "code",
     "collapsed": false,
     "input": [
      "datasets = [cars, bikes, ages, parking, male_singles, female_singles, digging]\n",
      "colnames = ['cars', 'bikes', 'ages', 'parking', 'male_singles', 'female_singles', 'digging']"
     ],
     "language": "python",
     "metadata": {},
     "outputs": [],
     "prompt_number": 14
    },
    {
     "cell_type": "code",
     "collapsed": false,
     "input": [
      "# load GeoJSON file containing sectors\n",
      "with open('data/taxzone.json', 'r') as f:\n",
      "    js = json.load(f)"
     ],
     "language": "python",
     "metadata": {},
     "outputs": [],
     "prompt_number": 15
    },
    {
     "cell_type": "code",
     "collapsed": false,
     "input": [
      "def do(row):\n",
      "    return len(filter(row.poly.contains, df.centroids))"
     ],
     "language": "python",
     "metadata": {},
     "outputs": [],
     "prompt_number": 16
    },
    {
     "cell_type": "code",
     "collapsed": false,
     "input": [
      "polygons_shape = [shape(feature['geometry']) for feature in  js['features']]\n",
      "names = [feature['properties']['id'] for feature in js['features']]\n",
      "map_df =  pd.DataFrame({'poly':polygons_shape,'id':names})\n",
      "map_df['poi'] = map_df.apply(do,axis=1)"
     ],
     "language": "python",
     "metadata": {},
     "outputs": [],
     "prompt_number": 17
    },
    {
     "cell_type": "code",
     "collapsed": false,
     "input": [
      "map_dfs = [map_df]\n",
      "\n",
      "for m in np.arange(0,len(datasets)):\n",
      "    dataset = datasets[m]\n",
      "    colname = colnames[m]\n",
      "    res = {}\n",
      "    for polygon in map_df.poly:\n",
      "        counts =0\n",
      "        for point in dataset.points:\n",
      "            if polygon.contains(point):\n",
      "                counts += int(dataset['count'][dataset.points==point])\n",
      "        res[polygon] = counts\n",
      "    map_df_dataset = pd.DataFrame({'poly':res.keys(),colname:res.values()})\n",
      "    map_dfs.append(map_df_dataset)"
     ],
     "language": "python",
     "metadata": {},
     "outputs": [],
     "prompt_number": 18
    },
    {
     "cell_type": "code",
     "collapsed": false,
     "input": [
      "data = map_dfs[0]\n",
      "for m in np.arange(1,len(map_dfs)):\n",
      "    data = pd.merge(data, map_dfs[m], on='poly', how='outer')"
     ],
     "language": "python",
     "metadata": {},
     "outputs": [],
     "prompt_number": 19
    },
    {
     "cell_type": "code",
     "collapsed": false,
     "input": [
      "colnames.insert(0,'poi')"
     ],
     "language": "python",
     "metadata": {},
     "outputs": [],
     "prompt_number": 20
    },
    {
     "cell_type": "code",
     "collapsed": false,
     "input": [
      "indexcol = data['id']*0"
     ],
     "language": "python",
     "metadata": {},
     "outputs": [],
     "prompt_number": 21
    },
    {
     "cell_type": "code",
     "collapsed": false,
     "input": [
      "index_cols = []\n",
      "myage = 28\n",
      "refs = [data.poi.max(), data.cars.mean(), data.bikes.mean(), myage, data.parking.mean(), data.male_singles.mean(), data.female_singles.mean()]\n",
      "weights = [10, 10, 10, 1, 0.1 , 11, 11]\n",
      "data['index'] = ((weights[0] * 0.1 * abs(data['poi']-refs[0])/refs[0]) + (weights[1] * 0.1 * (data['cars']-refs[1])/refs[1]) + (weights[2] * 0.1 * (data['bikes']-refs[2])/refs[2]) + (weights[3] * 0.1 * (data['ages']-refs[3])/refs[3]) + (weights[4] * 0.1 * (data['parking']-refs[4])/refs[4]))\n",
      "data.index = 10.0*data.index/data.index.max()"
     ],
     "language": "python",
     "metadata": {},
     "outputs": [],
     "prompt_number": 45
    },
    {
     "cell_type": "code",
     "collapsed": false,
     "input": [
      "data.describe()"
     ],
     "language": "python",
     "metadata": {},
     "outputs": [
      {
       "html": [
        "<div style=\"max-height:1000px;max-width:1500px;overflow:auto;\">\n",
        "<table border=\"1\" class=\"dataframe\">\n",
        "  <thead>\n",
        "    <tr style=\"text-align: right;\">\n",
        "      <th></th>\n",
        "      <th>id</th>\n",
        "      <th>poi</th>\n",
        "      <th>cars</th>\n",
        "      <th>bikes</th>\n",
        "      <th>ages</th>\n",
        "      <th>parking</th>\n",
        "      <th>male_singles</th>\n",
        "      <th>female_singles</th>\n",
        "      <th>digging</th>\n",
        "      <th>index</th>\n",
        "    </tr>\n",
        "  </thead>\n",
        "  <tbody>\n",
        "    <tr>\n",
        "      <th>count</th>\n",
        "      <td>  396.000000</td>\n",
        "      <td> 396.000000</td>\n",
        "      <td>    396.000000</td>\n",
        "      <td>   396.000000</td>\n",
        "      <td> 396.000000</td>\n",
        "      <td>  396.000000</td>\n",
        "      <td> 396</td>\n",
        "      <td> 396</td>\n",
        "      <td>   396.000000</td>\n",
        "      <td> 396.000000</td>\n",
        "    </tr>\n",
        "    <tr>\n",
        "      <th>mean</th>\n",
        "      <td>  204.381313</td>\n",
        "      <td>   1.696970</td>\n",
        "      <td>  10811.363636</td>\n",
        "      <td>  4472.222222</td>\n",
        "      <td>  34.426768</td>\n",
        "      <td>  121.946970</td>\n",
        "      <td>   0</td>\n",
        "      <td>   0</td>\n",
        "      <td>   279.138889</td>\n",
        "      <td>   0.916892</td>\n",
        "    </tr>\n",
        "    <tr>\n",
        "      <th>std</th>\n",
        "      <td>  136.275795</td>\n",
        "      <td>   2.142775</td>\n",
        "      <td>  18738.712306</td>\n",
        "      <td>  9293.293409</td>\n",
        "      <td>   7.658680</td>\n",
        "      <td>  267.935529</td>\n",
        "      <td>   0</td>\n",
        "      <td>   0</td>\n",
        "      <td>  1776.339211</td>\n",
        "      <td>   3.452789</td>\n",
        "    </tr>\n",
        "    <tr>\n",
        "      <th>min</th>\n",
        "      <td>    1.000000</td>\n",
        "      <td>   0.000000</td>\n",
        "      <td>      0.000000</td>\n",
        "      <td>     0.000000</td>\n",
        "      <td>   0.000000</td>\n",
        "      <td>    0.000000</td>\n",
        "      <td>   0</td>\n",
        "      <td>   0</td>\n",
        "      <td>     0.000000</td>\n",
        "      <td>  -1.352857</td>\n",
        "    </tr>\n",
        "    <tr>\n",
        "      <th>25%</th>\n",
        "      <td>  101.750000</td>\n",
        "      <td>   0.000000</td>\n",
        "      <td>      0.000000</td>\n",
        "      <td>     0.000000</td>\n",
        "      <td>  32.000000</td>\n",
        "      <td>    0.000000</td>\n",
        "      <td>   0</td>\n",
        "      <td>   0</td>\n",
        "      <td>     0.000000</td>\n",
        "      <td>  -1.005089</td>\n",
        "    </tr>\n",
        "    <tr>\n",
        "      <th>50%</th>\n",
        "      <td>  200.500000</td>\n",
        "      <td>   1.000000</td>\n",
        "      <td>   1550.000000</td>\n",
        "      <td>  1000.000000</td>\n",
        "      <td>  35.000000</td>\n",
        "      <td>    0.000000</td>\n",
        "      <td>   0</td>\n",
        "      <td>   0</td>\n",
        "      <td>     7.000000</td>\n",
        "      <td>  -0.545661</td>\n",
        "    </tr>\n",
        "    <tr>\n",
        "      <th>75%</th>\n",
        "      <td>  299.250000</td>\n",
        "      <td>   2.000000</td>\n",
        "      <td>  14900.000000</td>\n",
        "      <td>  5400.000000</td>\n",
        "      <td>  37.000000</td>\n",
        "      <td>  171.250000</td>\n",
        "      <td>   0</td>\n",
        "      <td>   0</td>\n",
        "      <td>    36.000000</td>\n",
        "      <td>   1.691513</td>\n",
        "    </tr>\n",
        "    <tr>\n",
        "      <th>max</th>\n",
        "      <td> 1247.000000</td>\n",
        "      <td>  16.000000</td>\n",
        "      <td> 167700.000000</td>\n",
        "      <td> 90700.000000</td>\n",
        "      <td>  75.000000</td>\n",
        "      <td> 3199.000000</td>\n",
        "      <td>   0</td>\n",
        "      <td>   0</td>\n",
        "      <td> 32898.000000</td>\n",
        "      <td>  34.789172</td>\n",
        "    </tr>\n",
        "  </tbody>\n",
        "</table>\n",
        "</div>"
       ],
       "metadata": {},
       "output_type": "pyout",
       "prompt_number": 46,
       "text": [
        "                id         poi           cars         bikes        ages  \\\n",
        "count   396.000000  396.000000     396.000000    396.000000  396.000000   \n",
        "mean    204.381313    1.696970   10811.363636   4472.222222   34.426768   \n",
        "std     136.275795    2.142775   18738.712306   9293.293409    7.658680   \n",
        "min       1.000000    0.000000       0.000000      0.000000    0.000000   \n",
        "25%     101.750000    0.000000       0.000000      0.000000   32.000000   \n",
        "50%     200.500000    1.000000    1550.000000   1000.000000   35.000000   \n",
        "75%     299.250000    2.000000   14900.000000   5400.000000   37.000000   \n",
        "max    1247.000000   16.000000  167700.000000  90700.000000   75.000000   \n",
        "\n",
        "           parking  male_singles  female_singles       digging       index  \n",
        "count   396.000000           396             396    396.000000  396.000000  \n",
        "mean    121.946970             0               0    279.138889    0.916892  \n",
        "std     267.935529             0               0   1776.339211    3.452789  \n",
        "min       0.000000             0               0      0.000000   -1.352857  \n",
        "25%       0.000000             0               0      0.000000   -1.005089  \n",
        "50%       0.000000             0               0      7.000000   -0.545661  \n",
        "75%     171.250000             0               0     36.000000    1.691513  \n",
        "max    3199.000000             0               0  32898.000000   34.789172  "
       ]
      }
     ],
     "prompt_number": 46
    },
    {
     "cell_type": "code",
     "collapsed": false,
     "input": [
      "cph_location = [55.6181, 12.6561]\n",
      "geo_path = 'data/taxzone.json' #json file with map\n",
      "outfile = 'cph.html'\n",
      "map = folium.Map(location=cph_location, zoom_start=12, tiles='Stamen Toner',width=1300, height =1300)\n",
      "map.geo_json(threshold_scale=[0,1,5, 10, 15], geo_path=geo_path, data_out ='test.json', data=data,\n",
      "             columns=['id', 'index'],\n",
      "             key_on='feature.properties.id',\n",
      "             fill_color='YlGnBu', fill_opacity=0.8, line_opacity=0.3,\n",
      "             legend_name='index of awesomeness')\n",
      "map.create_map(path=outfile)"
     ],
     "language": "python",
     "metadata": {},
     "outputs": [],
     "prompt_number": 47
    },
    {
     "cell_type": "code",
     "collapsed": false,
     "input": [
      "!git pull"
     ],
     "language": "python",
     "metadata": {},
     "outputs": []
    },
    {
     "cell_type": "code",
     "collapsed": false,
     "input": [
      "!git add vis.ipynb\n",
      "!git commit -am 'added trafic data'\n",
      "!git push origin master"
     ],
     "language": "python",
     "metadata": {},
     "outputs": []
    },
    {
     "cell_type": "code",
     "collapsed": false,
     "input": [
      "np.linspace(1,10,6)"
     ],
     "language": "python",
     "metadata": {},
     "outputs": []
    },
    {
     "cell_type": "code",
     "collapsed": false,
     "input": [],
     "language": "python",
     "metadata": {},
     "outputs": []
    }
   ],
   "metadata": {}
  }
 ]
}