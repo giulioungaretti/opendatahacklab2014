{
 "metadata": {
  "name": "",
  "signature": "sha256:8db6cde9ca0f3e3431b455b055e3dc92bc24998c01ab6574fcd884334270b21e"
 },
 "nbformat": 3,
 "nbformat_minor": 0,
 "worksheets": [
  {
   "cells": [
    {
     "cell_type": "heading",
     "level": 1,
     "metadata": {},
     "source": [
      "Hello world"
     ]
    },
    {
     "cell_type": "code",
     "collapsed": false,
     "input": [
      "!git add GPA.ipynb\n",
      "!git commit -am \"first commit\""
     ],
     "language": "python",
     "metadata": {},
     "outputs": [
      {
       "output_type": "stream",
       "stream": "stdout",
       "text": [
        "\r\n",
        "*** Please tell me who you are.\r\n",
        "\r\n",
        "Run\r\n",
        "\r\n",
        "  git config --global user.email \"you@example.com\"\r\n",
        "  git config --global user.name \"Your Name\"\r\n",
        "\r\n",
        "to set your account's default identity.\r\n",
        "Omit --global to set the identity only in this repository.\r\n",
        "\r\n",
        "fatal: unable to auto-detect email address (got 'Guen@gueneveresmbp3.(none)')\r\n"
       ]
      }
     ],
     "prompt_number": 1
    },
    {
     "cell_type": "code",
     "collapsed": false,
     "input": [],
     "language": "python",
     "metadata": {},
     "outputs": []
    }
   ],
   "metadata": {}
  }
 ]
}